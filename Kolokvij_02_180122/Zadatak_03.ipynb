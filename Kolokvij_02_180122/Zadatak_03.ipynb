{
 "cells": [
  {
   "cell_type": "code",
   "execution_count": 3,
   "metadata": {},
   "outputs": [],
   "source": [
    "class Izuzetak(Exception):\n",
    "    pass\n",
    "\n",
    "def Pretrazi(M:list):\n",
    "    if len(M) == 0:\n",
    "        raise Izuzetak(\"Prazna lista\")\n",
    "    \n",
    "    for num in M:\n",
    "        if num % 5 == 1:\n",
    "            print(num)\n",
    "            break\n",
    "    else:\n",
    "        print(\"Lista ne sadrzi niti jedan broj djeljiv sa 5.\")"
   ]
  },
  {
   "cell_type": "code",
   "execution_count": 7,
   "metadata": {},
   "outputs": [
    {
     "name": "stdout",
     "output_type": "stream",
     "text": [
      "Lista ne sadrzi niti jedan broj djeljiv sa 5.\n"
     ]
    }
   ],
   "source": [
    "L = [0,3,3,3,4,5,7,9,15,19,23]\n",
    "\n",
    "Pretrazi(L)"
   ]
  },
  {
   "cell_type": "code",
   "execution_count": null,
   "metadata": {},
   "outputs": [],
   "source": []
  }
 ],
 "metadata": {
  "kernelspec": {
   "display_name": "Python 3.9.7 64-bit",
   "language": "python",
   "name": "python3"
  },
  "language_info": {
   "codemirror_mode": {
    "name": "ipython",
    "version": 3
   },
   "file_extension": ".py",
   "mimetype": "text/x-python",
   "name": "python",
   "nbconvert_exporter": "python",
   "pygments_lexer": "ipython3",
   "version": "3.9.7"
  },
  "orig_nbformat": 4,
  "vscode": {
   "interpreter": {
    "hash": "c347c8f9a7ef94e4c9e03b4513be7835ed18f45b99a2a817fb579f408b867b16"
   }
  }
 },
 "nbformat": 4,
 "nbformat_minor": 2
}
