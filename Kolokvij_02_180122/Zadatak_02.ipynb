{
 "cells": [
  {
   "cell_type": "code",
   "execution_count": 6,
   "metadata": {},
   "outputs": [],
   "source": [
    "def napraviDatoteku():\n",
    "    with open(\"text.txt\", \"w\") as dat:\n",
    "            dat.write(\"neki tekst\\n\")\n",
    "            dat.write(\"ovo je neki drugi redak\\n\")\n",
    "            dat.write(\"ovo je treci redak\\n\")\n",
    "\n",
    "napraviDatoteku()"
   ]
  },
  {
   "cell_type": "code",
   "execution_count": 2,
   "metadata": {},
   "outputs": [
    {
     "name": "stdout",
     "output_type": "stream",
     "text": [
      "3\n"
     ]
    }
   ],
   "source": [
    "def GetNumLines(p_file:str):\n",
    "    with open(p_file) as dat:\n",
    "        L = dat.readlines()\n",
    "        print(len(L))\n",
    "\n",
    "GetNumLines(\"text.txt\")"
   ]
  },
  {
   "cell_type": "code",
   "execution_count": 7,
   "metadata": {},
   "outputs": [
    {
     "name": "stdout",
     "output_type": "stream",
     "text": [
      "2\n"
     ]
    }
   ],
   "source": [
    "def GetBrojRetka(p_file:str):\n",
    "    row = 0\n",
    "    rowID = 0\n",
    "    prevRowCount = 0\n",
    "\n",
    "    with open(p_file) as dat:\n",
    "        for line in dat:\n",
    "            rowID += 1\n",
    "            currentRowCount = line.count(\" \") + 1\n",
    "            if currentRowCount > prevRowCount:\n",
    "                prevRowCount = currentRowCount\n",
    "                row = rowID\n",
    "        print(row)\n",
    "       \n",
    "GetBrojRetka(\"text.txt\")"
   ]
  }
 ],
 "metadata": {
  "kernelspec": {
   "display_name": "Python 3.9.7 64-bit",
   "language": "python",
   "name": "python3"
  },
  "language_info": {
   "codemirror_mode": {
    "name": "ipython",
    "version": 3
   },
   "file_extension": ".py",
   "mimetype": "text/x-python",
   "name": "python",
   "nbconvert_exporter": "python",
   "pygments_lexer": "ipython3",
   "version": "3.9.7"
  },
  "orig_nbformat": 4,
  "vscode": {
   "interpreter": {
    "hash": "c347c8f9a7ef94e4c9e03b4513be7835ed18f45b99a2a817fb579f408b867b16"
   }
  }
 },
 "nbformat": 4,
 "nbformat_minor": 2
}
