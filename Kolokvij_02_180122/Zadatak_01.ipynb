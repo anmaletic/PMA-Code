{
 "cells": [
  {
   "cell_type": "code",
   "execution_count": 4,
   "metadata": {},
   "outputs": [
    {
     "name": "stdout",
     "output_type": "stream",
     "text": [
      "(1, 'ponedjeljak')\n",
      "(2, 'utorak')\n",
      "(3, 'srijeda')\n",
      "(4, 'četvrtak')\n",
      "(5, 'petak')\n"
     ]
    }
   ],
   "source": [
    "tjedan_hard_code = {1:\"ponedjeljak\", 2:\"utorak\", 3:\"srijeda\", 4:\"četvrtak\", 5:\"petak\"}\n",
    "for item in tjedan_hard_code.items():\n",
    "    print(item)"
   ]
  },
  {
   "cell_type": "code",
   "execution_count": 5,
   "metadata": {},
   "outputs": [
    {
     "name": "stdout",
     "output_type": "stream",
     "text": [
      "Moguce je obrisati samo dvije vrijednosti!\n"
     ]
    }
   ],
   "source": [
    "class Izuzetak(Exception):\n",
    "    pass\n",
    "\n",
    "deleted = 0\n",
    "\n",
    "while True:\n",
    "    unos = int(input(\"Unesite kljuc: \"))\n",
    "    try:\n",
    "\n",
    "        if deleted == 2:\n",
    "            raise Izuzetak(\"Moguce je obrisati samo dvije vrijednosti!\")\n",
    "        if unos in tjedan_hard_code:\n",
    "            tjedan_hard_code.pop(unos) \n",
    "            deleted += 1\n",
    "        else:\n",
    "            print(\"Unos ne postoji\")\n",
    "    \n",
    "    except Izuzetak as ex:\n",
    "        print(ex)\n",
    "        break"
   ]
  },
  {
   "cell_type": "code",
   "execution_count": null,
   "metadata": {},
   "outputs": [],
   "source": []
  }
 ],
 "metadata": {
  "kernelspec": {
   "display_name": "Python 3.9.7 64-bit",
   "language": "python",
   "name": "python3"
  },
  "language_info": {
   "codemirror_mode": {
    "name": "ipython",
    "version": 3
   },
   "file_extension": ".py",
   "mimetype": "text/x-python",
   "name": "python",
   "nbconvert_exporter": "python",
   "pygments_lexer": "ipython3",
   "version": "3.9.7"
  },
  "orig_nbformat": 4,
  "vscode": {
   "interpreter": {
    "hash": "c347c8f9a7ef94e4c9e03b4513be7835ed18f45b99a2a817fb579f408b867b16"
   }
  }
 },
 "nbformat": 4,
 "nbformat_minor": 2
}
