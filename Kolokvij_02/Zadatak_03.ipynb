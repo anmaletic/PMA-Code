{
 "cells": [
  {
   "cell_type": "markdown",
   "metadata": {},
   "source": [
    "![](2022-06-09-11-59-04.png)"
   ]
  },
  {
   "cell_type": "markdown",
   "metadata": {},
   "source": [
    "![](2022-06-09-11-59-19.png)"
   ]
  },
  {
   "cell_type": "code",
   "execution_count": 19,
   "metadata": {},
   "outputs": [
    {
     "name": "stdout",
     "output_type": "stream",
     "text": [
      "('1', 'ponedjeljak')\n",
      "('2', 'utorak')\n",
      "('3', 'srijeda')\n",
      "('4', 'cetvrtak')\n",
      "('5', 'petak')\n",
      "('6', 'subota')\n",
      "('7', 'nedjelja')\n"
     ]
    }
   ],
   "source": [
    "tjedan_hard_code = { \"1\":\"ponedjeljak\", \"2\":\"utorak\", \"3\":\"srijeda\", \"4\":\"cetvrtak\", \"5\":\"petak\", \"6\":\"subota\", \"7\":\"nedjelja\"}\n",
    "\n",
    "for item in tjedan_hard_code.items():\n",
    "    print(item)"
   ]
  },
  {
   "cell_type": "markdown",
   "metadata": {},
   "source": [
    "![](2022-06-09-12-16-04.png)"
   ]
  },
  {
   "cell_type": "code",
   "execution_count": 20,
   "metadata": {},
   "outputs": [
    {
     "name": "stdout",
     "output_type": "stream",
     "text": [
      "{'1': 'ponedjeljak', '3': 'srijeda', '4': 'cetvrtak', '5': 'petak', '6': 'subota', '7': 'nedjelja'}\n",
      "{'1': 'ponedjeljak', '4': 'cetvrtak', '5': 'petak', '6': 'subota', '7': 'nedjelja'}\n",
      "Nije moguce izbrisati vise od dvije vrijednosti\n"
     ]
    }
   ],
   "source": [
    "class Izuzetak(Exception):\n",
    "    pass\n",
    "\n",
    "deleted = 0\n",
    "\n",
    "try:\n",
    "    while True:\n",
    "        unos = input(\"Unesite kljuc: \")\n",
    "\n",
    "        if deleted == 2:\n",
    "            raise Izuzetak(\"Nije moguce izbrisati vise od dvije vrijednosti\")            \n",
    "\n",
    "        if unos in tjedan_hard_code.keys():\n",
    "            tjedan_hard_code.pop(unos)\n",
    "            deleted += 1\n",
    "            print(tjedan_hard_code)\n",
    "        else:\n",
    "            print(\"Ne postoji uneseni kljuc.\")\n",
    "\n",
    "except Izuzetak as ex:\n",
    "    print(ex)"
   ]
  },
  {
   "cell_type": "markdown",
   "metadata": {},
   "source": [
    "![](2022-06-09-12-16-35.png)"
   ]
  },
  {
   "cell_type": "code",
   "execution_count": 22,
   "metadata": {},
   "outputs": [
    {
     "name": "stdout",
     "output_type": "stream",
     "text": [
      "Jesen\n",
      "Zima\n",
      "Proljece\n",
      "Ljeto\n"
     ]
    }
   ],
   "source": [
    "L_gd = [ \"Jesen\", \"Zima\", \"Proljece\", \"Ljeto\"]\n",
    "it = iter(L_gd)\n",
    "\n",
    "try:\n",
    "    while True:\n",
    "        i = next(it)\n",
    "        print(i)\n",
    "except StopIteration:\n",
    "    pass"
   ]
  },
  {
   "cell_type": "markdown",
   "metadata": {},
   "source": [
    "![](2022-06-09-12-19-51.png)"
   ]
  },
  {
   "cell_type": "code",
   "execution_count": null,
   "metadata": {},
   "outputs": [],
   "source": []
  },
  {
   "cell_type": "markdown",
   "metadata": {},
   "source": [
    "![](2022-06-09-12-20-10.png)"
   ]
  },
  {
   "cell_type": "code",
   "execution_count": null,
   "metadata": {},
   "outputs": [],
   "source": []
  }
 ],
 "metadata": {
  "interpreter": {
   "hash": "a25f99aa125bd4410be9155a2fb8511cd1ed013e1077370425d4be963778dfe3"
  },
  "kernelspec": {
   "display_name": "Python 3.9.12 ('base')",
   "language": "python",
   "name": "python3"
  },
  "language_info": {
   "codemirror_mode": {
    "name": "ipython",
    "version": 3
   },
   "file_extension": ".py",
   "mimetype": "text/x-python",
   "name": "python",
   "nbconvert_exporter": "python",
   "pygments_lexer": "ipython3",
   "version": "3.9.12"
  },
  "orig_nbformat": 4
 },
 "nbformat": 4,
 "nbformat_minor": 2
}
