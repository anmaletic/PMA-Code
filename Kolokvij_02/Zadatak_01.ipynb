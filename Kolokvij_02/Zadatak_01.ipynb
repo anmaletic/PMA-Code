{
 "cells": [
  {
   "cell_type": "markdown",
   "metadata": {},
   "source": [
    "![](2022-06-09-10-41-19.png)"
   ]
  },
  {
   "cell_type": "markdown",
   "metadata": {},
   "source": [
    "![](2022-06-09-10-41-37.png)"
   ]
  },
  {
   "cell_type": "code",
   "execution_count": 3,
   "metadata": {},
   "outputs": [],
   "source": [
    "def napraviDatoteku():\n",
    "    with open(\"text.txt\", \"w\") as dat:\n",
    "            dat.write(\"danas je ponedjeljak\\n\")\n",
    "            dat.write(\"dugi zeleni drvored\\n\")\n",
    "            dat.write(\"ovo je neki redak\\n\")"
   ]
  },
  {
   "cell_type": "code",
   "execution_count": 4,
   "metadata": {},
   "outputs": [],
   "source": [
    "napraviDatoteku()"
   ]
  },
  {
   "cell_type": "code",
   "execution_count": 13,
   "metadata": {},
   "outputs": [
    {
     "name": "stdout",
     "output_type": "stream",
     "text": [
      "2\n"
     ]
    }
   ],
   "source": [
    "def get_num_lines(p_file:str):\n",
    "    id = 0\n",
    "    with open(p_file) as dat:\n",
    "        for line in dat:\n",
    "            id += 1\n",
    "            line = line.removesuffix(\"\\n\")\n",
    "            if line[0] == line[-1]:\n",
    "                print(id)\n",
    "\n",
    "get_num_lines(\"text.txt\")"
   ]
  },
  {
   "cell_type": "markdown",
   "metadata": {},
   "source": [
    "![](2022-06-09-10-50-28.png)"
   ]
  },
  {
   "cell_type": "code",
   "execution_count": 18,
   "metadata": {},
   "outputs": [
    {
     "name": "stdout",
     "output_type": "stream",
     "text": [
      "{1: 3, 2: 3, 3: 7}\n"
     ]
    }
   ],
   "source": [
    "def get_broj_rijeci(p_file:str):\n",
    "    id = 0\n",
    "    D_br = dict()\n",
    "    with open(p_file) as dat:\n",
    "        for line in dat:\n",
    "            id += 1        \n",
    "            D_br[id] = line.count(\" \") + 1\n",
    "    print(D_br)\n",
    "            \n",
    "get_broj_rijeci(\"text.txt\")"
   ]
  }
 ],
 "metadata": {
  "interpreter": {
   "hash": "a25f99aa125bd4410be9155a2fb8511cd1ed013e1077370425d4be963778dfe3"
  },
  "kernelspec": {
   "display_name": "Python 3.9.12 ('base')",
   "language": "python",
   "name": "python3"
  },
  "language_info": {
   "codemirror_mode": {
    "name": "ipython",
    "version": 3
   },
   "file_extension": ".py",
   "mimetype": "text/x-python",
   "name": "python",
   "nbconvert_exporter": "python",
   "pygments_lexer": "ipython3",
   "version": "3.9.12"
  },
  "orig_nbformat": 4
 },
 "nbformat": 4,
 "nbformat_minor": 2
}
