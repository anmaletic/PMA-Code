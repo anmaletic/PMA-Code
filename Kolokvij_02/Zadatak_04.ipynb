{
 "cells": [
  {
   "cell_type": "markdown",
   "metadata": {},
   "source": [
    "![](2022-06-09-12-51-30.png)"
   ]
  },
  {
   "cell_type": "markdown",
   "metadata": {},
   "source": [
    "![](2022-06-09-12-51-44.png)"
   ]
  },
  {
   "cell_type": "code",
   "execution_count": 1,
   "metadata": {},
   "outputs": [],
   "source": [
    "# 1.  min = 0     max = 14\n",
    "#     mid = 7     # L[7] = 5\n",
    "# 2.  min = 7+1   max = 14\n",
    "#     mid = 11    # L[11] = 10\n",
    "# 3.  min = 8     max = 11-1\n",
    "#     mid = 9     # L[9] = 7\n",
    "# 4.  min = 9+1   max = 10\n",
    "#     mid = 10    # L[10] = 8 !!!"
   ]
  },
  {
   "cell_type": "markdown",
   "metadata": {},
   "source": [
    "![](2022-06-09-12-57-58.png)"
   ]
  },
  {
   "cell_type": "code",
   "execution_count": null,
   "metadata": {},
   "outputs": [],
   "source": [
    "# n = 12\n",
    "# L[0] =  1 < 11\n",
    "# L[1] =  2 < 11\n",
    "# L[2] =  3 < 11\n",
    "# L[4] =  6 < 11\n",
    "# L[8] = 13 > 11\n",
    "\n",
    "# 1.  min = 4     max = 8\n",
    "#     mid = 6     L[6] = 10 < 11\n",
    "# 2.  min = 6+1   max = 8\n",
    "#     mid = 7     L[7] = 11 = 11 !!"
   ]
  },
  {
   "cell_type": "markdown",
   "metadata": {},
   "source": [
    "![](2022-06-09-12-58-17.png)"
   ]
  },
  {
   "cell_type": "code",
   "execution_count": 17,
   "metadata": {},
   "outputs": [
    {
     "name": "stdout",
     "output_type": "stream",
     "text": [
      "21\n"
     ]
    }
   ],
   "source": [
    "class Izuzetak(Exception):\n",
    "    pass\n",
    "\n",
    "M = [2, 7, 17, 21]\n",
    "try:\n",
    "    if len(M) == 0:\n",
    "        raise Izuzetak(\"Lista je prazna!\")\n",
    "\n",
    "    for i in range(len(M)):\n",
    "        if M[i] >= 10 and M[i] % 7 == 0:\n",
    "            print(M[i])\n",
    "        elif i == len(M)-1:\n",
    "            raise Izuzetak(\"Lista ne sadrzi niti jedan dvoznamenkasti broj djeljiv s 7.\")\n",
    "except Izuzetak as ex:\n",
    "    print(ex)"
   ]
  },
  {
   "cell_type": "code",
   "execution_count": null,
   "metadata": {},
   "outputs": [],
   "source": []
  }
 ],
 "metadata": {
  "interpreter": {
   "hash": "a25f99aa125bd4410be9155a2fb8511cd1ed013e1077370425d4be963778dfe3"
  },
  "kernelspec": {
   "display_name": "Python 3.9.12 ('base')",
   "language": "python",
   "name": "python3"
  },
  "language_info": {
   "codemirror_mode": {
    "name": "ipython",
    "version": 3
   },
   "file_extension": ".py",
   "mimetype": "text/x-python",
   "name": "python",
   "nbconvert_exporter": "python",
   "pygments_lexer": "ipython3",
   "version": "3.9.12"
  },
  "orig_nbformat": 4
 },
 "nbformat": 4,
 "nbformat_minor": 2
}
