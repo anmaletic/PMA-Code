{
 "cells": [
  {
   "cell_type": "markdown",
   "metadata": {},
   "source": [
    "![](2022-06-09-12-46-58.png)"
   ]
  },
  {
   "cell_type": "markdown",
   "metadata": {},
   "source": [
    "![](2022-06-09-12-47-14.png)"
   ]
  },
  {
   "cell_type": "code",
   "execution_count": 8,
   "metadata": {},
   "outputs": [
    {
     "name": "stdout",
     "output_type": "stream",
     "text": [
      "[1, 2, 3, 4, 5, 6]\n",
      "[]\n"
     ]
    }
   ],
   "source": [
    "L1 = [1,3,5]\n",
    "L2 = [2,4,6]\n",
    "\n",
    "while len(L2) != 0:    \n",
    "    num = L2[0]\n",
    "    for i in range(len(L1)):\n",
    "        if num < L1[i]:\n",
    "            L1.insert(i, L2.pop(0))\n",
    "            #L1.insert(i, num)            \n",
    "            #L2.remove(num)\n",
    "            break      \n",
    "\n",
    "        if i == len(L1)-1:\n",
    "            L1.append(L2.pop(0))\n",
    "            #L1.append(num)\n",
    "            #L2.remove(num)\n",
    "            break\n",
    "\n",
    "print(L1)\n",
    "print(L2)"
   ]
  }
 ],
 "metadata": {
  "interpreter": {
   "hash": "a25f99aa125bd4410be9155a2fb8511cd1ed013e1077370425d4be963778dfe3"
  },
  "kernelspec": {
   "display_name": "Python 3.9.12 ('base')",
   "language": "python",
   "name": "python3"
  },
  "language_info": {
   "codemirror_mode": {
    "name": "ipython",
    "version": 3
   },
   "file_extension": ".py",
   "mimetype": "text/x-python",
   "name": "python",
   "nbconvert_exporter": "python",
   "pygments_lexer": "ipython3",
   "version": "3.9.12"
  },
  "orig_nbformat": 4
 },
 "nbformat": 4,
 "nbformat_minor": 2
}
