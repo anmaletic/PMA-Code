{
 "cells": [
  {
   "cell_type": "markdown",
   "metadata": {},
   "source": [
    "![](2022-06-09-11-01-02.png)"
   ]
  },
  {
   "cell_type": "code",
   "execution_count": null,
   "metadata": {},
   "outputs": [],
   "source": []
  },
  {
   "cell_type": "markdown",
   "metadata": {},
   "source": [
    "![](2022-06-09-11-02-22.png)"
   ]
  },
  {
   "cell_type": "code",
   "execution_count": 6,
   "metadata": {},
   "outputs": [],
   "source": [
    "L1 = [ 8,5,2,6,3,9,1,4,7]\n",
    "1.\n",
    "L1 = [ 5,8,2,6,3,9,1,4,7]\n",
    "L1 = [ 5,2,8,6,3,9,1,4,7]\n",
    "L1 = [ 5,2,6,8,3,9,1,4,7]\n",
    "L1 = [ 5,2,6,3,8,9,1,4,7]\n",
    "L1 = [ 5,2,6,3,8,1,9,4,7]\n",
    "L1 = [ 5,2,6,3,8,1,4,9,7]\n",
    "L1 = [ 5,2,6,3,8,1,4,7,9]\n",
    "\n",
    "2.\n",
    "L1 = [ 2,5,6,3,8,1,4,7,9]\n",
    "L1 = [ 2,5,3,6,8,1,4,7,9]\n",
    "L1 = [ 2,5,3,6,1,8,4,7,9]\n",
    "L1 = [ 2,5,3,6,1,4,8,7,9]\n",
    "L1 = [ 2,5,3,6,1,4,7,8,9]\n"
   ]
  },
  {
   "cell_type": "code",
   "execution_count": 8,
   "metadata": {},
   "outputs": [],
   "source": [
    "def BubbleSort(lista:list):\n",
    "    count = 0\n",
    "    n = len(lista)\n",
    "    for i in range(n):\n",
    "        sorted = True\n",
    "        for j in range(n-i-1):\n",
    "            count += 1\n",
    "            if lista[j] > lista[j+1]:\n",
    "                temp = lista[j]\n",
    "                lista[j] = lista[j+1]\n",
    "                lista[j+1] = temp\n",
    "                sorted = False\n",
    "                print(f\"{lista}\")\n",
    "        if sorted:\n",
    "            break\n",
    "    print(count)"
   ]
  },
  {
   "cell_type": "code",
   "execution_count": null,
   "metadata": {},
   "outputs": [],
   "source": [
    "L1 = [ 8,5,2,6,3,9,1,4,7]\n",
    "BubbleSort(L1)"
   ]
  },
  {
   "cell_type": "markdown",
   "metadata": {},
   "source": [
    "![](2022-06-09-11-49-56.png)"
   ]
  },
  {
   "cell_type": "code",
   "execution_count": null,
   "metadata": {},
   "outputs": [],
   "source": []
  },
  {
   "cell_type": "markdown",
   "metadata": {},
   "source": [
    "![](2022-06-09-11-47-20.png)"
   ]
  },
  {
   "cell_type": "code",
   "execution_count": 10,
   "metadata": {},
   "outputs": [],
   "source": [
    "L3 = [ 438, 531, 65, 11, 19, 7, 277]\n",
    "\n",
    "L3 = [ 531, 11, 65, 7, 277, 438, 19]\n",
    "L3 = [ 7, 11, 19, 531, 438, 65, 271]\n",
    "L3 = [ 7, 11, 19, 65, 277, 438, 531]"
   ]
  },
  {
   "cell_type": "markdown",
   "metadata": {},
   "source": [
    "![](2022-06-09-11-31-55.png)"
   ]
  },
  {
   "cell_type": "code",
   "execution_count": 17,
   "metadata": {},
   "outputs": [],
   "source": [
    "class Izuzetak(Exception):\n",
    "    pass\n",
    "\n",
    "def swap_mjesta(L:list, k1:int, k2:int):\n",
    "    length = len(L)\n",
    "    try:\n",
    "        if length == 0:\n",
    "            raise Izuzetak(\"Lista je prazna!\")\n",
    "        elif k1 < 0 or k2 < 0:\n",
    "            raise Izuzetak(\"Indeks nije pozitivan!\")\n",
    "        elif k1 > length-1 or k2 > length-1:\n",
    "            raise Izuzetak(\"Indeks je veci od najveceg indeksa liste!\")\n",
    "        else:         \n",
    "            L[k1] = L[k1] - L[k2]\n",
    "            L[k2] = L[k1] + L[k2]\n",
    "            L[k1] = L[k2] - L[k1]\n",
    "        print(L)\n",
    "    except Izuzetak as ex:\n",
    "        print(ex)\n",
    "\n"
   ]
  },
  {
   "cell_type": "code",
   "execution_count": 23,
   "metadata": {},
   "outputs": [
    {
     "name": "stdout",
     "output_type": "stream",
     "text": [
      "[5, 2, 3, 4, 1]\n"
     ]
    }
   ],
   "source": [
    "L = [1, 2, 3, 4, 5]\n",
    "#L = []\n",
    "swap_mjesta(L, -0, 4)"
   ]
  },
  {
   "cell_type": "code",
   "execution_count": null,
   "metadata": {},
   "outputs": [],
   "source": []
  }
 ],
 "metadata": {
  "interpreter": {
   "hash": "a25f99aa125bd4410be9155a2fb8511cd1ed013e1077370425d4be963778dfe3"
  },
  "kernelspec": {
   "display_name": "Python 3.9.12 ('base')",
   "language": "python",
   "name": "python3"
  },
  "language_info": {
   "codemirror_mode": {
    "name": "ipython",
    "version": 3
   },
   "file_extension": ".py",
   "mimetype": "text/x-python",
   "name": "python",
   "nbconvert_exporter": "python",
   "pygments_lexer": "ipython3",
   "version": "3.9.12"
  },
  "orig_nbformat": 4
 },
 "nbformat": 4,
 "nbformat_minor": 2
}
