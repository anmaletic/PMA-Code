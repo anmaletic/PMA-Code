{
 "cells": [
  {
   "cell_type": "code",
   "execution_count": 2,
   "metadata": {},
   "outputs": [],
   "source": [
    "def napraviDatoteku():\n",
    "    with open(\"text.txt\", \"w\") as dat:\n",
    "            dat.write(\"a2 je prvi red2k\\n\")\n",
    "            dat.write(\"ovo je neki drugi redak\\n\")\n",
    "            dat.write(\"ovo je treci redak\\n\")\n",
    "\n",
    "napraviDatoteku()"
   ]
  },
  {
   "cell_type": "code",
   "execution_count": 9,
   "metadata": {},
   "outputs": [
    {
     "name": "stdout",
     "output_type": "stream",
     "text": [
      "1\n"
     ]
    }
   ],
   "source": [
    "def GetNumLines(p_file:str):\n",
    "    id = 0\n",
    "    with open(p_file) as dat:\n",
    "        for line in dat:\n",
    "            line = line.removesuffix(\"\\n\")\n",
    "            id += 1\n",
    "            if (line[1].isdigit() and\n",
    "                line[-2].isdigit() and\n",
    "                line[1] == line[-2]):\n",
    "                print(id)\n",
    "                \n",
    "GetNumLines(\"text.txt\")"
   ]
  },
  {
   "cell_type": "code",
   "execution_count": 10,
   "metadata": {},
   "outputs": [
    {
     "name": "stdout",
     "output_type": "stream",
     "text": [
      "{1: 4, 2: 5, 3: 4}\n"
     ]
    }
   ],
   "source": [
    "def get_broj_rijeci(p_file:str):\n",
    "    id = 1\n",
    "    D_br = dict()\n",
    "    with open(p_file) as dat:\n",
    "        for line in dat:\n",
    "            D_br[id] = line.count(\" \") + 1            \n",
    "            id += 1        \n",
    "    print(D_br)\n",
    "            \n",
    "get_broj_rijeci(\"text.txt\")"
   ]
  },
  {
   "cell_type": "code",
   "execution_count": 22,
   "metadata": {},
   "outputs": [
    {
     "name": "stdout",
     "output_type": "stream",
     "text": [
      "prvi\n",
      "drugi\n",
      "treci\n",
      "cetvrti\n",
      "peti\n"
     ]
    }
   ],
   "source": [
    "redni_brojevi_hard_code = { \"1\":\"prvi\", \"2\":\"drugi\", \"3\":\"treci\", \"4\":\"cetvrti\", \"5\":\"peti\" }\n",
    "\n",
    "item = 1\n",
    "\n",
    "while item <= 5:\n",
    "    print (redni_brojevi_hard_code[str(item)])\n",
    "    item += 1"
   ]
  },
  {
   "cell_type": "code",
   "execution_count": 24,
   "metadata": {},
   "outputs": [
    {
     "name": "stdout",
     "output_type": "stream",
     "text": [
      "Ne postoji uneseni kljuc.\n",
      "Ne postoji uneseni kljuc.\n",
      "{'1': 'prvi', '4': 'cetvrti', '5': 'peti'}\n",
      "Nije moguce izbrisati vise od 1 vrijednosti\n"
     ]
    }
   ],
   "source": [
    "class Izuzetak(Exception):\n",
    "    pass\n",
    "\n",
    "deleted = 0\n",
    "\n",
    "try:\n",
    "    while True:\n",
    "        unos = input(\"Unesite kljuc: \")\n",
    "\n",
    "        if deleted == 0:    \n",
    "            if unos in redni_brojevi_hard_code.keys():\n",
    "                redni_brojevi_hard_code.pop(unos)\n",
    "                deleted += 1\n",
    "                print(redni_brojevi_hard_code)\n",
    "            else:\n",
    "                print(\"Ne postoji uneseni kljuc.\")\n",
    "        else:\n",
    "            raise Izuzetak(\"Nije moguce izbrisati vise od 1 vrijednosti\")       \n",
    "\n",
    "except Izuzetak as ex:\n",
    "    print(ex)"
   ]
  },
  {
   "cell_type": "code",
   "execution_count": 27,
   "metadata": {},
   "outputs": [
    {
     "name": "stdout",
     "output_type": "stream",
     "text": [
      "Antonio\n",
      "Tomislav\n",
      "Petar\n",
      "Mislav\n"
     ]
    }
   ],
   "source": [
    "L_imena:list\n",
    "L_imena = ( \"Antonio\", \"Tomislav\", \"Petar\", \"Mislav\")\n",
    "it = iter(L_imena)\n",
    "\n",
    "try:\n",
    "    while True:\n",
    "        ime = next(it)\n",
    "        print(ime)\n",
    "except StopIteration:\n",
    "    pass"
   ]
  },
  {
   "cell_type": "code",
   "execution_count": 28,
   "metadata": {},
   "outputs": [
    {
     "name": "stdout",
     "output_type": "stream",
     "text": [
      "True\n"
     ]
    }
   ],
   "source": [
    "print(\"Antonio\" in L_imena)"
   ]
  },
  {
   "cell_type": "code",
   "execution_count": 37,
   "metadata": {},
   "outputs": [
    {
     "name": "stdout",
     "output_type": "stream",
     "text": [
      "False\n",
      "\n",
      "Mislav\n",
      "Tomislav\n",
      "Petar\n",
      "\n",
      "False\n",
      "\n",
      "True\n",
      "False\n",
      "\n",
      "3\n"
     ]
    }
   ],
   "source": [
    "# 1. Pripadnost\n",
    "L = (\"Mislav\", \"Tomislav\", \"Petar\")\n",
    "print(\"Antonio\" in L) # False\n",
    "\n",
    "# 2. Obilazak\n",
    "print()\n",
    "for ime in L:\n",
    "    print(ime)\n",
    "\n",
    "# 3. Jednakost\n",
    "print()\n",
    "L2 = (\"Antonio\", \"Josip\")\n",
    "print(L == L2)\n",
    "\n",
    "# 4. Interpretacija kao logička vrijednost\n",
    "print()\n",
    "L3 = ()\n",
    "print(bool(L2))\n",
    "print(bool(L3))\n",
    "\n",
    "# 5. Broj elemenata\n",
    "print()\n",
    "print(len(L))"
   ]
  },
  {
   "cell_type": "code",
   "execution_count": 43,
   "metadata": {},
   "outputs": [
    {
     "name": "stdout",
     "output_type": "stream",
     "text": [
      "{'crna', 'zelena', 'bijela', 'crvena', 'plava', 'zuta'}\n",
      "{'crvena', 'plava', 'bijela'}\n",
      "{'zuta', 'zelena'}\n",
      "{'zuta', 'zelena'}\n",
      "{'crna'}\n",
      "{'crna'}\n"
     ]
    }
   ],
   "source": [
    "A = {\"plava\", \"zuta\", \"crvena\", \"bijela\", \"zelena\"}\n",
    "B = {\"crvena\", \"plava\", \"crna\", \"bijela\"}\n",
    "\n",
    "U = A.union(B)\n",
    "print(U)\n",
    "\n",
    "P = A.intersection(B)\n",
    "print(P)\n",
    "\n",
    "\n",
    "print(A - B)\n",
    "print(A.difference(B))\n",
    "print(B - A)\n",
    "print(B.difference(A))\n"
   ]
  },
  {
   "cell_type": "code",
   "execution_count": null,
   "metadata": {},
   "outputs": [],
   "source": []
  }
 ],
 "metadata": {
  "interpreter": {
   "hash": "a25f99aa125bd4410be9155a2fb8511cd1ed013e1077370425d4be963778dfe3"
  },
  "kernelspec": {
   "display_name": "Python 3.9.12 ('base')",
   "language": "python",
   "name": "python3"
  },
  "language_info": {
   "codemirror_mode": {
    "name": "ipython",
    "version": 3
   },
   "file_extension": ".py",
   "mimetype": "text/x-python",
   "name": "python",
   "nbconvert_exporter": "python",
   "pygments_lexer": "ipython3",
   "version": "3.9.12"
  },
  "orig_nbformat": 4
 },
 "nbformat": 4,
 "nbformat_minor": 2
}
