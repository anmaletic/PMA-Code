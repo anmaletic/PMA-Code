{
 "cells": [
  {
   "cell_type": "code",
   "execution_count": 1,
   "metadata": {},
   "outputs": [],
   "source": [
    "def BubbleSort(lista:list):\n",
    "    count = 0\n",
    "    n = len(lista)\n",
    "    for i in range(n):\n",
    "        sorted = True\n",
    "        for j in range(n-i-1):\n",
    "            count += 1\n",
    "            if lista[j] > lista[j+1]:\n",
    "                temp = lista[j]\n",
    "                lista[j] = lista[j+1]\n",
    "                lista[j+1] = temp\n",
    "                sorted = False\n",
    "                print(f\"{lista}\")\n",
    "        if sorted:\n",
    "            break\n",
    "    print(count)"
   ]
  },
  {
   "cell_type": "code",
   "execution_count": 2,
   "metadata": {},
   "outputs": [
    {
     "name": "stdout",
     "output_type": "stream",
     "text": [
      "[5, 12, 2, 8, 3, 9, 1]\n",
      "[5, 2, 12, 8, 3, 9, 1]\n",
      "[5, 2, 8, 12, 3, 9, 1]\n",
      "[5, 2, 8, 3, 12, 9, 1]\n",
      "[5, 2, 8, 3, 9, 12, 1]\n",
      "[5, 2, 8, 3, 9, 1, 12]\n",
      "[2, 5, 8, 3, 9, 1, 12]\n",
      "[2, 5, 3, 8, 9, 1, 12]\n",
      "[2, 5, 3, 8, 1, 9, 12]\n",
      "[2, 3, 5, 8, 1, 9, 12]\n",
      "[2, 3, 5, 1, 8, 9, 12]\n",
      "[2, 3, 1, 5, 8, 9, 12]\n",
      "[2, 1, 3, 5, 8, 9, 12]\n",
      "[1, 2, 3, 5, 8, 9, 12]\n",
      "21\n"
     ]
    }
   ],
   "source": [
    "L = [ 12, 5, 2, 8, 3, 9, 1]\n",
    "BubbleSort(L)"
   ]
  },
  {
   "cell_type": "code",
   "execution_count": 8,
   "metadata": {},
   "outputs": [],
   "source": [
    "class Izuzetak(Exception):\n",
    "    pass\n",
    "\n",
    "def swap(L:list, k1:int, k2:int):\n",
    "    try:\n",
    "        if len(L) == 0:\n",
    "            raise Izuzetak(\"Prazna lista\")\n",
    "        if k1 < 0 or k2 < 0:\n",
    "            raise Izuzetak(\"Negativan indeks\")\n",
    "        if k1 >= len(L) or k2 >= len(L):\n",
    "            raise Izuzetak(\"Prevelik indeks\")\n",
    "\n",
    "        L[k1] = L[k1] - L[k2]\n",
    "        L[k2] = L[k1] + L[k2]\n",
    "        L[k1] = L[k2] - L[k1]\n",
    "\n",
    "        print(L)\n",
    "\n",
    "    except Izuzetak as ex:\n",
    "        print(ex)\n"
   ]
  },
  {
   "cell_type": "code",
   "execution_count": 14,
   "metadata": {},
   "outputs": [
    {
     "name": "stdout",
     "output_type": "stream",
     "text": [
      "Negativan indeks\n"
     ]
    }
   ],
   "source": [
    "L = [1, 2, 3, 4, 5]\n",
    "#L = []\n",
    "swap(L, 1, -5)"
   ]
  },
  {
   "cell_type": "code",
   "execution_count": null,
   "metadata": {},
   "outputs": [],
   "source": []
  }
 ],
 "metadata": {
  "interpreter": {
   "hash": "a25f99aa125bd4410be9155a2fb8511cd1ed013e1077370425d4be963778dfe3"
  },
  "kernelspec": {
   "display_name": "Python 3.9.12 ('base')",
   "language": "python",
   "name": "python3"
  },
  "language_info": {
   "codemirror_mode": {
    "name": "ipython",
    "version": 3
   },
   "file_extension": ".py",
   "mimetype": "text/x-python",
   "name": "python",
   "nbconvert_exporter": "python",
   "pygments_lexer": "ipython3",
   "version": "3.9.12"
  },
  "orig_nbformat": 4
 },
 "nbformat": 4,
 "nbformat_minor": 2
}
