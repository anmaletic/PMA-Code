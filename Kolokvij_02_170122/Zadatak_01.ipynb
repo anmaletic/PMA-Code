{
 "cells": [
  {
   "cell_type": "code",
   "execution_count": 3,
   "metadata": {},
   "outputs": [],
   "source": [
    "def zbroji_brojeve(broj:int):\n",
    "    if broj == 0:\n",
    "        return 0\n",
    "    else:\n",
    "        return broj % 10 + zbroji_brojeve(broj // 10)    "
   ]
  },
  {
   "cell_type": "code",
   "execution_count": 4,
   "metadata": {},
   "outputs": [
    {
     "name": "stdout",
     "output_type": "stream",
     "text": [
      "15\n"
     ]
    }
   ],
   "source": [
    "print(zbroji_brojeve(12345))"
   ]
  },
  {
   "cell_type": "code",
   "execution_count": 2,
   "metadata": {},
   "outputs": [],
   "source": [
    "def rec_ispis(n):\n",
    "    if n == 0:\n",
    "        return\n",
    "    if n == 1:\n",
    "        return n\n",
    "    elif n == 2:\n",
    "        return n\n",
    "    elif n == 3:\n",
    "        return n\n",
    "    else:\n",
    "        return( rec_ispis(n-1) + rec_ispis(n-2) + rec_ispis(n-3))\n",
    "    "
   ]
  },
  {
   "cell_type": "code",
   "execution_count": 3,
   "metadata": {},
   "outputs": [],
   "source": [
    "def ispisi_rekurzivne_brojeve(n:int):\n",
    "    if n == 0:\n",
    "        return\n",
    "    if n == 1 or n == 2 or n == 3:\n",
    "        return n\n",
    "    else:\n",
    "        return (ispisi_rekurzivne_brojeve(n-1) +\n",
    "                ispisi_rekurzivne_brojeve(n-2) +\n",
    "                ispisi_rekurzivne_brojeve(n-3))"
   ]
  },
  {
   "cell_type": "code",
   "execution_count": 4,
   "metadata": {},
   "outputs": [
    {
     "name": "stdout",
     "output_type": "stream",
     "text": [
      "[1, 2, 3, 6, 11, 20, 37, 68, 125, 230]\n",
      "[1, 2, 3, 6, 11, 20, 37, 68, 125, 230]\n"
     ]
    }
   ],
   "source": [
    "l1 = []\n",
    "l2 = []\n",
    "\n",
    "for i in range(1,11):\n",
    "    l1.append(rec_ispis(i))\n",
    "    l2.append(ispisi_rekurzivne_brojeve(i))\n",
    "\n",
    "print(l1)\n",
    "print(l2)"
   ]
  },
  {
   "cell_type": "code",
   "execution_count": 12,
   "metadata": {},
   "outputs": [
    {
     "data": {
      "text/plain": [
       "True"
      ]
     },
     "execution_count": 12,
     "metadata": {},
     "output_type": "execute_result"
    }
   ],
   "source": [
    "def ReverseNumber(broj, revBroj = 0):\n",
    "    if broj == 0:\n",
    "        return revBroj\n",
    "    else:\n",
    "        revBroj += broj % 10 * 10**(len(str(broj))-1)\n",
    "        return ReverseNumber(broj//10, revBroj)    \n",
    "\n",
    "def IsPalindrom(broj:int):\n",
    "    if broj == ReverseNumber(broj):\n",
    "        return True\n",
    "    return False\n",
    "\n",
    "IsPalindrom(1234321)"
   ]
  },
  {
   "cell_type": "code",
   "execution_count": 3,
   "metadata": {},
   "outputs": [],
   "source": [
    "def checkDigits(b1,b2):\n",
    "    if b1 == 0:\n",
    "        return b2\n",
    "\n",
    "    numberToCheck = checkDigits(b1//10, b2)\n",
    "    if numberToCheck %10 != b1%10 or numberToCheck == -1:\n",
    "        return -1\n",
    "    return numberToCheck//10\n",
    "\n",
    "def isPalindrom(n:int):\n",
    "    if checkDigits(n,n) == 0:\n",
    "        return True\n",
    "    return False"
   ]
  },
  {
   "cell_type": "code",
   "execution_count": 3,
   "metadata": {},
   "outputs": [],
   "source": [
    "#isPalindrom(12321)"
   ]
  },
  {
   "cell_type": "code",
   "execution_count": 29,
   "metadata": {},
   "outputs": [],
   "source": [
    "def _reverse(self, node):\n",
    "    if node.next == None:\n",
    "        self.firstNode = node\n",
    "        return node\n",
    "\n",
    "    cN = _reverse(node.next)\n",
    "    cN.next = node\n",
    "    node.next = None\n",
    "\n",
    "def reverse(self):\n",
    "    self._reverse(self.firstNode)\n",
    "    "
   ]
  }
 ],
 "metadata": {
  "interpreter": {
   "hash": "a25f99aa125bd4410be9155a2fb8511cd1ed013e1077370425d4be963778dfe3"
  },
  "kernelspec": {
   "display_name": "Python 3.9.12 ('base')",
   "language": "python",
   "name": "python3"
  },
  "language_info": {
   "codemirror_mode": {
    "name": "ipython",
    "version": 3
   },
   "file_extension": ".py",
   "mimetype": "text/x-python",
   "name": "python",
   "nbconvert_exporter": "python",
   "pygments_lexer": "ipython3",
   "version": "3.9.12"
  },
  "orig_nbformat": 4
 },
 "nbformat": 4,
 "nbformat_minor": 2
}
