{
 "cells": [
  {
   "cell_type": "code",
   "execution_count": 2,
   "metadata": {},
   "outputs": [
    {
     "data": {
      "text/plain": [
       "55"
      ]
     },
     "execution_count": 2,
     "metadata": {},
     "output_type": "execute_result"
    }
   ],
   "source": [
    "def fib(n):\n",
    "    if n == 1 or n == 2:\n",
    "        return 1\n",
    "    else:\n",
    "        return fib(n-1) + fib(n-2)\n",
    "\n",
    "fib(10)"
   ]
  },
  {
   "cell_type": "code",
   "execution_count": 9,
   "metadata": {},
   "outputs": [
    {
     "data": {
      "text/plain": [
       "55"
      ]
     },
     "execution_count": 9,
     "metadata": {},
     "output_type": "execute_result"
    }
   ],
   "source": [
    "def smart_fib(n):\n",
    "    a, b = 0, 1\n",
    "    for i in range(1,n):\n",
    "        a, b = b, a+b\n",
    "    return b\n",
    "\n",
    "smart_fib(10)"
   ]
  },
  {
   "cell_type": "code",
   "execution_count": 2,
   "metadata": {},
   "outputs": [
    {
     "data": {
      "text/plain": [
       "3628800"
      ]
     },
     "execution_count": 2,
     "metadata": {},
     "output_type": "execute_result"
    }
   ],
   "source": [
    "def faktorijel(n):\n",
    "    if n == 0 or n == 1:\n",
    "        return 1\n",
    "    else:\n",
    "        return n * faktorijel(n-1)\n",
    "\n",
    "faktorijel(10)"
   ]
  },
  {
   "cell_type": "code",
   "execution_count": 5,
   "metadata": {},
   "outputs": [
    {
     "name": "stdout",
     "output_type": "stream",
     "text": [
      "9\n"
     ]
    }
   ],
   "source": [
    "# zbrojiti znamenke unutar zadanog broja\n",
    "# broj = 234 , funkcija vraca 2+3+4 = 0\n",
    "# ideja. uzmi krajnju desnu znamenku 4, ponovi sve s preostalim brojem\n",
    "\n",
    "\n",
    "def recursive_sum(broj:int):\n",
    "    if broj == 0:\n",
    "        return 0\n",
    "    else:\n",
    "        return int(broj%10) + recursive_sum(broj//10)\n",
    "\n",
    "print(recursive_sum(234))"
   ]
  },
  {
   "cell_type": "code",
   "execution_count": 7,
   "metadata": {},
   "outputs": [
    {
     "name": "stdout",
     "output_type": "stream",
     "text": [
      "256\n"
     ]
    }
   ],
   "source": [
    "# rekurzivna funkcija za potenciju broja\n",
    "# 2**8 = 256 , 2**8 = 2*(2**7)\n",
    "\n",
    "def rec_potencija(broj, potencija):\n",
    "    if potencija == 0:\n",
    "        return 1\n",
    "    else:\n",
    "        return broj * rec_potencija(broj, potencija-1)\n",
    "\n",
    "    \n",
    "print(rec_potencija(2, 8))"
   ]
  },
  {
   "cell_type": "code",
   "execution_count": 24,
   "metadata": {},
   "outputs": [
    {
     "name": "stdout",
     "output_type": "stream",
     "text": [
      "       1 \n",
      "      1 1 \n",
      "     1 2 1 \n",
      "    1 3 3 1 \n",
      "   1 4 6 4 1 \n",
      "  1 5 10 10 5 1 \n"
     ]
    }
   ],
   "source": [
    "from math import factorial\n",
    "\n",
    "broj_razina = 6\n",
    "for i in range(broj_razina):\n",
    "    for j in range(broj_razina-i+1):\n",
    "        print(end = \" \")\n",
    "    for j in range(i+1):\n",
    "        print(factorial(i)//(factorial(j)*factorial(i-j)), end = \" \")\n",
    "    print()"
   ]
  },
  {
   "cell_type": "code",
   "execution_count": 25,
   "metadata": {},
   "outputs": [
    {
     "name": "stdout",
     "output_type": "stream",
     "text": [
      "[30, 29, 50, 26]\n"
     ]
    }
   ],
   "source": [
    "import random\n",
    "random_list = []\n",
    "for i in range(0, 4):\n",
    "    n = random.randint(1, 100)\n",
    "    random_list.append(n)\n",
    "\n",
    "print(random_list)"
   ]
  },
  {
   "cell_type": "code",
   "execution_count": 30,
   "metadata": {},
   "outputs": [
    {
     "name": "stdout",
     "output_type": "stream",
     "text": [
      "[55, 29, 50, 26]\n"
     ]
    }
   ],
   "source": [
    "nova_lista = random_list\n",
    "print(nova_lista)"
   ]
  },
  {
   "cell_type": "code",
   "execution_count": 32,
   "metadata": {},
   "outputs": [
    {
     "name": "stdout",
     "output_type": "stream",
     "text": [
      "[60, 29, 50, 26]\n",
      "[60, 29, 50, 26]\n"
     ]
    }
   ],
   "source": [
    "nova_lista[0] = 60\n",
    "print(nova_lista)\n",
    "print(random_list)"
   ]
  },
  {
   "cell_type": "code",
   "execution_count": 34,
   "metadata": {},
   "outputs": [],
   "source": [
    "import copy\n",
    "duboka_kopija = copy.deepcopy(nova_lista)"
   ]
  },
  {
   "cell_type": "code",
   "execution_count": 36,
   "metadata": {},
   "outputs": [
    {
     "name": "stdout",
     "output_type": "stream",
     "text": [
      "[60, 29, 50, 26] [60, 29, 50, 26] [77, 29, 50, 26]\n"
     ]
    }
   ],
   "source": [
    "duboka_kopija[0] = 77\n",
    "print(nova_lista, random_list, duboka_kopija)"
   ]
  },
  {
   "cell_type": "code",
   "execution_count": null,
   "metadata": {},
   "outputs": [],
   "source": []
  }
 ],
 "metadata": {
  "interpreter": {
   "hash": "e34ea3c45c3efa627870324e0201170e564c9c6a8a16181300e9b0eb380a954a"
  },
  "kernelspec": {
   "display_name": "Python 3.9.7 ('base')",
   "language": "python",
   "name": "python3"
  },
  "language_info": {
   "codemirror_mode": {
    "name": "ipython",
    "version": 3
   },
   "file_extension": ".py",
   "mimetype": "text/x-python",
   "name": "python",
   "nbconvert_exporter": "python",
   "pygments_lexer": "ipython3",
   "version": "3.9.7"
  },
  "orig_nbformat": 4
 },
 "nbformat": 4,
 "nbformat_minor": 2
}
