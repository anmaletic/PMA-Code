{
 "cells": [
  {
   "cell_type": "code",
   "execution_count": 9,
   "metadata": {},
   "outputs": [
    {
     "name": "stdout",
     "output_type": "stream",
     "text": [
      "neprazan\n"
     ]
    }
   ],
   "source": [
    "\n",
    "if '':\n",
    "    print(\"prazan\")\n",
    "else:\n",
    "    print(\"neprazan\")"
   ]
  },
  {
   "cell_type": "code",
   "execution_count": 16,
   "metadata": {},
   "outputs": [
    {
     "name": "stdout",
     "output_type": "stream",
     "text": [
      "(2, 5, 3, 4, 5)\n"
     ]
    }
   ],
   "source": [
    "stavkaRacuna = ()\n",
    "stavkaRacuna = (2, 5, 3, 4)\n",
    "stavkaRacuna = (2, 5, 3, 5)\n",
    "\n",
    "print(stavkaRacuna)"
   ]
  },
  {
   "cell_type": "code",
   "execution_count": 17,
   "metadata": {},
   "outputs": [
    {
     "name": "stdout",
     "output_type": "stream",
     "text": [
      "1. kruh\n",
      "2. med\n",
      "3. mlijeko\n"
     ]
    }
   ],
   "source": [
    "listaa = [\"kruh\", \"med\", \"mlijeko\"]\n",
    "\n",
    "for i, j in enumerate(listaa):\n",
    "    print(f\"{i+1}. {j}\")"
   ]
  },
  {
   "cell_type": "code",
   "execution_count": 18,
   "metadata": {},
   "outputs": [
    {
     "name": "stdout",
     "output_type": "stream",
     "text": [
      "True\n"
     ]
    }
   ],
   "source": [
    "nekiZnak = \"a\"\n",
    "nekiString = \"abcd\"\n",
    "print(nekiZnak in nekiString)"
   ]
  },
  {
   "cell_type": "code",
   "execution_count": 22,
   "metadata": {},
   "outputs": [
    {
     "name": "stdout",
     "output_type": "stream",
     "text": [
      "o : 111\n",
      "f : 102\n",
      "g : 103\n",
      "e : 101\n",
      "u : 117\n",
      "o : 111\n",
      "h : 104\n",
      "i : 105\n",
      "p : 112\n",
      "s : 115\n",
      "1 : 49\n",
      "0 : 48\n",
      "0 : 48\n"
     ]
    }
   ],
   "source": [
    "for i in \"ofgeuohips100\":\n",
    "    print(i, \":\", ord(i))"
   ]
  },
  {
   "cell_type": "code",
   "execution_count": 30,
   "metadata": {},
   "outputs": [
    {
     "name": "stdout",
     "output_type": "stream",
     "text": [
      "True\n",
      "HOELAJK\n",
      "False\n",
      "True\n",
      "True\n",
      "7\n",
      "B\n"
     ]
    }
   ],
   "source": [
    "nekiZnakovi = \"hOElaJK\"\n",
    "print(\"K\" in nekiZnakovi)\n",
    "dodatniZnakovi = \"\"\n",
    "for j in nekiZnakovi:\n",
    "    dodatniZnakovi += j.upper()\n",
    "print(dodatniZnakovi)\n",
    "print(dodatniZnakovi == nekiZnakovi)\n",
    "nekiZnakovi2 = nekiZnakovi\n",
    "print(nekiZnakovi == nekiZnakovi2)\n",
    "print(bool(nekiZnakovi2))\n",
    "print(len(nekiZnakovi))\n",
    "if \"\":\n",
    "    print(\"A\")\n",
    "else:\n",
    "    print(\"B\")"
   ]
  },
  {
   "cell_type": "code",
   "execution_count": 33,
   "metadata": {},
   "outputs": [
    {
     "name": "stdout",
     "output_type": "stream",
     "text": [
      "<class 'list_iterator'>\n",
      "A\n"
     ]
    }
   ],
   "source": [
    "L = [\"A\", \"B\", \"C\"]\n",
    "it = iter(L)\n",
    "print(type(it))\n",
    "print(next(it))"
   ]
  },
  {
   "cell_type": "code",
   "execution_count": 34,
   "metadata": {},
   "outputs": [
    {
     "name": "stdout",
     "output_type": "stream",
     "text": [
      "B\n",
      "C\n"
     ]
    }
   ],
   "source": [
    "try:\n",
    "    while True:\n",
    "        i = next(it)\n",
    "        print(i)\n",
    "except StopIteration:\n",
    "    pass"
   ]
  },
  {
   "cell_type": "code",
   "execution_count": null,
   "metadata": {},
   "outputs": [],
   "source": [
    "for i in range(100000):\n",
    "    print(i)"
   ]
  },
  {
   "cell_type": "code",
   "execution_count": null,
   "metadata": {},
   "outputs": [],
   "source": [
    "i = 0\n",
    "while True:\n",
    "    if i < 100000:\n",
    "        print(i)\n",
    "        i += 1\n",
    "    else:\n",
    "        break"
   ]
  },
  {
   "cell_type": "code",
   "execution_count": 1,
   "metadata": {},
   "outputs": [
    {
     "name": "stdout",
     "output_type": "stream",
     "text": [
      "{'Petar2': 'Huljek2', 'Nepetar': 'Nehuljek'}\n"
     ]
    },
    {
     "data": {
      "text/plain": [
       "'Huljek2'"
      ]
     },
     "execution_count": 1,
     "metadata": {},
     "output_type": "execute_result"
    }
   ],
   "source": [
    "_dictionary = { \"Petar2\" : \"Huljek2\", \"Nepetar\" : \"Nehuljek\"}\n",
    "print(_dictionary)\n",
    "\n",
    "_dictionary.get(\"Petar2\")"
   ]
  },
  {
   "cell_type": "code",
   "execution_count": 49,
   "metadata": {},
   "outputs": [
    {
     "name": "stdout",
     "output_type": "stream",
     "text": [
      "Hrvatska\n"
     ]
    }
   ],
   "source": [
    "countries = { \"HR\" : \"Hrvatska\", \"EN\" : \"Engleska\", \"MX\" : \"Mexico\", \"US\" : \"United States\" }\n",
    "code = \"HR\"\n",
    "if code in countries:\n",
    "    country = countries.get(code)\n",
    "    print(country)\n",
    "else:\n",
    "    print(\"Ne postoji upisani kod.\")"
   ]
  },
  {
   "cell_type": "code",
   "execution_count": 50,
   "metadata": {},
   "outputs": [
    {
     "name": "stdout",
     "output_type": "stream",
     "text": [
      "HR : Hrvatska\n",
      "EN : Engleska\n",
      "MX : Mexico\n",
      "US : United States\n"
     ]
    }
   ],
   "source": [
    "for code, name in countries.items():\n",
    "    print(code, \":\", name)"
   ]
  },
  {
   "cell_type": "code",
   "execution_count": 69,
   "metadata": {},
   "outputs": [
    {
     "name": "stdout",
     "output_type": "stream",
     "text": [
      "<class 'set'>\n"
     ]
    }
   ],
   "source": [
    "biljke = { \"kupus\", \"jabuke\", \"kruške\", \"mrkve\"}\n",
    "prazanSkup = set()\n",
    "print(type(prazanSkup))"
   ]
  },
  {
   "cell_type": "code",
   "execution_count": 65,
   "metadata": {},
   "outputs": [
    {
     "name": "stdout",
     "output_type": "stream",
     "text": [
      "False\n"
     ]
    }
   ],
   "source": [
    "print(\"mrkva\" in biljke)"
   ]
  },
  {
   "cell_type": "code",
   "execution_count": 66,
   "metadata": {},
   "outputs": [
    {
     "name": "stdout",
     "output_type": "stream",
     "text": [
      "False\n"
     ]
    }
   ],
   "source": [
    "print({\"mrkve\", \"kupusi\"}.issubset(biljke))"
   ]
  },
  {
   "cell_type": "code",
   "execution_count": 67,
   "metadata": {},
   "outputs": [],
   "source": [
    "povrce = { \"krumpir\", \"tikvice\", \"kupus\" }"
   ]
  },
  {
   "cell_type": "code",
   "execution_count": 70,
   "metadata": {},
   "outputs": [
    {
     "name": "stdout",
     "output_type": "stream",
     "text": [
      "{'kupus'}\n"
     ]
    }
   ],
   "source": [
    "print(biljke.intersection(povrce))"
   ]
  },
  {
   "cell_type": "code",
   "execution_count": 72,
   "metadata": {},
   "outputs": [
    {
     "name": "stdout",
     "output_type": "stream",
     "text": [
      "{3}\n"
     ]
    }
   ],
   "source": [
    "prazanSkup.add(3)\n",
    "print(prazanSkup)"
   ]
  },
  {
   "cell_type": "code",
   "execution_count": 74,
   "metadata": {},
   "outputs": [
    {
     "name": "stdout",
     "output_type": "stream",
     "text": [
      "ima\n"
     ]
    }
   ],
   "source": [
    "if not ' ':\n",
    "    print(\"prazan\")\n",
    "else:\n",
    "    print(\"ima\")"
   ]
  },
  {
   "cell_type": "code",
   "execution_count": null,
   "metadata": {},
   "outputs": [],
   "source": []
  }
 ],
 "metadata": {
  "interpreter": {
   "hash": "a25f99aa125bd4410be9155a2fb8511cd1ed013e1077370425d4be963778dfe3"
  },
  "kernelspec": {
   "display_name": "Python 3.9.12 ('base')",
   "language": "python",
   "name": "python3"
  },
  "language_info": {
   "codemirror_mode": {
    "name": "ipython",
    "version": 3
   },
   "file_extension": ".py",
   "mimetype": "text/x-python",
   "name": "python",
   "nbconvert_exporter": "python",
   "pygments_lexer": "ipython3",
   "version": "3.9.12"
  },
  "orig_nbformat": 4
 },
 "nbformat": 4,
 "nbformat_minor": 2
}
