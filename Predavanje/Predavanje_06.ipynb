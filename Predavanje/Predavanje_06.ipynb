{
 "cells": [
  {
   "cell_type": "code",
   "execution_count": 14,
   "metadata": {},
   "outputs": [
    {
     "name": "stdout",
     "output_type": "stream",
     "text": [
      "[34]\n",
      "['abc', 34]\n",
      "['abc']\n",
      "['abc', 'abc']\n",
      "['abc']\n",
      "['abc', 1, 2, 3]\n",
      "['abc', 1, 2]\n",
      "['abc', 2]\n",
      "0\n",
      "[2]\n"
     ]
    }
   ],
   "source": [
    "temps = []\n",
    "\n",
    "temps.append(34)\n",
    "print(temps)\n",
    "\n",
    "temps.insert(0, \"abc\")\n",
    "print(temps) \n",
    "\n",
    "temps.remove(34)\n",
    "print(temps)\n",
    "\n",
    "temps.append(\"abc\")\n",
    "print(temps)\n",
    "\n",
    "temps.remove(\"abc\")\n",
    "print(temps)\n",
    "\n",
    "temps.append(1)\n",
    "temps.append(2)\n",
    "temps.append(3)\n",
    "print(temps)\n",
    "\n",
    "temps.pop()\n",
    "print(temps)\n",
    "\n",
    "temps.pop(1)\n",
    "print(temps)\n",
    "\n",
    "id = temps.index(\"abc\")\n",
    "print(id)\n",
    "\n",
    "temps.pop(id)\n",
    "print(temps)"
   ]
  },
  {
   "cell_type": "code",
   "execution_count": 13,
   "metadata": {},
   "outputs": [],
   "source": [
    "# \"abc\"[0] = \"A\"   TypeError"
   ]
  },
  {
   "cell_type": "code",
   "execution_count": 12,
   "metadata": {},
   "outputs": [
    {
     "name": "stdout",
     "output_type": "stream",
     "text": [
      "[['a', 2], ['b', 3]]\n",
      "[['a', 2, 5], ['b', 3]]\n",
      "[['a', 2, 5], ['b', 3], ['c', 4]]\n",
      "a\n",
      "2\n",
      "5\n",
      "b\n",
      "3\n",
      "c\n",
      "4\n"
     ]
    }
   ],
   "source": [
    "lista_lista = [[\"a\", 2], [\"b\", 3]]\n",
    "print(lista_lista)\n",
    "\n",
    "lista_lista[0].append(5)\n",
    "print(lista_lista)\n",
    "\n",
    "nova_lista = []\n",
    "nova_lista.append(\"c\")\n",
    "nova_lista.append(4)\n",
    "\n",
    "lista_lista.append(nova_lista)\n",
    "print(lista_lista)\n",
    "\n",
    "for liste in lista_lista:\n",
    "    for element in liste:\n",
    "        print(element)"
   ]
  },
  {
   "cell_type": "code",
   "execution_count": 16,
   "metadata": {},
   "outputs": [
    {
     "name": "stdout",
     "output_type": "stream",
     "text": [
      "['a', 'b', 'c', 'd']\n"
     ]
    }
   ],
   "source": [
    "def dodaj_element_u_listu(p_lista:list, p_item):\n",
    "    p_lista.append(p_item)\n",
    "\n",
    "\n",
    "neka_lista = [\"a\", \"b\", \"c\"]\n",
    "dodaj_element_u_listu(neka_lista, \"d\")\n",
    "print(neka_lista)"
   ]
  },
  {
   "cell_type": "code",
   "execution_count": 2,
   "metadata": {},
   "outputs": [
    {
     "name": "stdout",
     "output_type": "stream",
     "text": [
      "[1, 4, 3, 4, 5]\n",
      "[1, 4, 3, 4, 5]\n"
     ]
    }
   ],
   "source": [
    "list_one = [1, 2, 3, 4, 5]\n",
    "list_two = list_one\n",
    "list_two[1] = 4\n",
    "print(list_one)\n",
    "print(list_two)"
   ]
  },
  {
   "cell_type": "code",
   "execution_count": 6,
   "metadata": {},
   "outputs": [
    {
     "name": "stdout",
     "output_type": "stream",
     "text": [
      "[1, 2, 3, 4, 5]\n",
      "[1, 4, 3, 4, 5]\n"
     ]
    }
   ],
   "source": [
    "import copy\n",
    "list_one = [1, 2, 3, 4, 5]\n",
    "list_two = copy.deepcopy(list_one)\n",
    "list_two[1] = 4\n",
    "print(list_one)\n",
    "print(list_two)"
   ]
  },
  {
   "cell_type": "code",
   "execution_count": 8,
   "metadata": {},
   "outputs": [
    {
     "name": "stdout",
     "output_type": "stream",
     "text": [
      "[1, 2, 3, 4, 5]\n",
      "[1, 4, 4, 4, 5]\n",
      "[1, 2, 3, 4, 5, 1, 4, 3, 4, 5]\n"
     ]
    }
   ],
   "source": [
    "import copy\n",
    "list_one = [1, 2, 3, 4, 5]\n",
    "list_two = copy.deepcopy(list_one)\n",
    "list_two[1] = 4\n",
    "list_three = list_one + list_two\n",
    "list_two[2] = 4\n",
    "print(list_one)\n",
    "print(list_two)\n",
    "print(list_three)"
   ]
  },
  {
   "cell_type": "code",
   "execution_count": 9,
   "metadata": {},
   "outputs": [
    {
     "name": "stdout",
     "output_type": "stream",
     "text": [
      "(1, 2, 3)\n",
      "1\n",
      "2\n",
      "3\n"
     ]
    }
   ],
   "source": [
    "tuple_values = (1, 2, 3)\n",
    "a, b, c = tuple_values\n",
    "print(tuple_values)\n",
    "print(a)\n",
    "print(b)\n",
    "print(c)"
   ]
  },
  {
   "cell_type": "code",
   "execution_count": 10,
   "metadata": {},
   "outputs": [
    {
     "name": "stdout",
     "output_type": "stream",
     "text": [
      "[1, 5.4]\n",
      "[1, 'da', 5.4]\n"
     ]
    }
   ],
   "source": [
    "lista1 = [1, \"da\", 5.4]\n",
    "lista2 = copy.deepcopy(lista1)\n",
    "if \"da\" in lista1:\n",
    "    lista1.remove(\"da\")\n",
    "print(lista1)\n",
    "print(lista2)"
   ]
  },
  {
   "cell_type": "code",
   "execution_count": null,
   "metadata": {},
   "outputs": [],
   "source": []
  }
 ],
 "metadata": {
  "interpreter": {
   "hash": "1c3d17c8a272a264af467b0f9fa443eb5bfedc8707583658bc5c94c4f85feda1"
  },
  "kernelspec": {
   "display_name": "Python 3.10.0 64-bit",
   "language": "python",
   "name": "python3"
  },
  "language_info": {
   "codemirror_mode": {
    "name": "ipython",
    "version": 3
   },
   "file_extension": ".py",
   "mimetype": "text/x-python",
   "name": "python",
   "nbconvert_exporter": "python",
   "pygments_lexer": "ipython3",
   "version": "3.10.0"
  },
  "orig_nbformat": 4
 },
 "nbformat": 4,
 "nbformat_minor": 2
}
