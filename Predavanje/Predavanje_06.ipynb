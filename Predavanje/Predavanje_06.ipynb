{
 "cells": [
  {
   "cell_type": "code",
   "execution_count": 14,
   "metadata": {},
   "outputs": [
    {
     "name": "stdout",
     "output_type": "stream",
     "text": [
      "[34]\n",
      "['abc', 34]\n",
      "['abc']\n",
      "['abc', 'abc']\n",
      "['abc']\n",
      "['abc', 1, 2, 3]\n",
      "['abc', 1, 2]\n",
      "['abc', 2]\n",
      "0\n",
      "[2]\n"
     ]
    }
   ],
   "source": [
    "temps = []\n",
    "\n",
    "temps.append(34)\n",
    "print(temps)\n",
    "\n",
    "temps.insert(0, \"abc\")\n",
    "print(temps) \n",
    "\n",
    "temps.remove(34)\n",
    "print(temps)\n",
    "\n",
    "temps.append(\"abc\")\n",
    "print(temps)\n",
    "\n",
    "temps.remove(\"abc\")\n",
    "print(temps)\n",
    "\n",
    "temps.append(1)\n",
    "temps.append(2)\n",
    "temps.append(3)\n",
    "print(temps)\n",
    "\n",
    "temps.pop()\n",
    "print(temps)\n",
    "\n",
    "temps.pop(1)\n",
    "print(temps)\n",
    "\n",
    "id = temps.index(\"abc\")\n",
    "print(id)\n",
    "\n",
    "temps.pop(id)\n",
    "print(temps)"
   ]
  },
  {
   "cell_type": "code",
   "execution_count": null,
   "metadata": {},
   "outputs": [],
   "source": []
  }
 ],
 "metadata": {
  "interpreter": {
   "hash": "1c3d17c8a272a264af467b0f9fa443eb5bfedc8707583658bc5c94c4f85feda1"
  },
  "kernelspec": {
   "display_name": "Python 3.10.0 64-bit",
   "language": "python",
   "name": "python3"
  },
  "language_info": {
   "codemirror_mode": {
    "name": "ipython",
    "version": 3
   },
   "file_extension": ".py",
   "mimetype": "text/x-python",
   "name": "python",
   "nbconvert_exporter": "python",
   "pygments_lexer": "ipython3",
   "version": "3.10.0"
  },
  "orig_nbformat": 4
 },
 "nbformat": 4,
 "nbformat_minor": 2
}
