{
 "cells": [
  {
   "cell_type": "code",
   "execution_count": 6,
   "source": [
    "lista = [1, 2, 3, 4]\r\n",
    "\r\n",
    "try:\r\n",
    "    print(lista[4])\r\n",
    "except:\r\n",
    "    print(\"error\")"
   ],
   "outputs": [
    {
     "output_type": "stream",
     "name": "stdout",
     "text": [
      "error\n"
     ]
    }
   ],
   "metadata": {}
  },
  {
   "cell_type": "code",
   "execution_count": null,
   "source": [],
   "outputs": [],
   "metadata": {}
  }
 ],
 "metadata": {
  "orig_nbformat": 4,
  "language_info": {
   "name": "python",
   "version": "3.10.0",
   "mimetype": "text/x-python",
   "codemirror_mode": {
    "name": "ipython",
    "version": 3
   },
   "pygments_lexer": "ipython3",
   "nbconvert_exporter": "python",
   "file_extension": ".py"
  },
  "kernelspec": {
   "name": "python3",
   "display_name": "Python 3.10.0 64-bit"
  },
  "interpreter": {
   "hash": "1c3d17c8a272a264af467b0f9fa443eb5bfedc8707583658bc5c94c4f85feda1"
  }
 },
 "nbformat": 4,
 "nbformat_minor": 2
}