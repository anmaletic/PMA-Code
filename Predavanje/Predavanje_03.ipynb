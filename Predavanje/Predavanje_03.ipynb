{
 "cells": [
  {
   "cell_type": "code",
   "execution_count": 1,
   "source": [
    "lista = [1, 2, 3, 4]\r\n",
    "\r\n",
    "try:\r\n",
    "    print(lista[4])\r\n",
    "except:\r\n",
    "    print(\"error\")"
   ],
   "outputs": [
    {
     "output_type": "stream",
     "name": "stdout",
     "text": [
      "error\n"
     ]
    }
   ],
   "metadata": {}
  },
  {
   "cell_type": "code",
   "execution_count": 3,
   "source": [
    "while True:\r\n",
    "    vrijednost = input(\"Unesite cijeli broj: \")\r\n",
    "\r\n",
    "    try:\r\n",
    "        vrijednost = int(vrijednost)\r\n",
    "        print(f\"Kvadrat unesenog broja je: {vrijednost**2}\")\r\n",
    "        break\r\n",
    "    except ValueError:\r\n",
    "        print(\"Unesena vrijednost nije cijeli broj!\")"
   ],
   "outputs": [
    {
     "output_type": "stream",
     "name": "stdout",
     "text": [
      "Unesena vrijednost nije cijeli broj!\n",
      "Kvadrat unesenog broja je: 4\n"
     ]
    }
   ],
   "metadata": {}
  },
  {
   "cell_type": "code",
   "execution_count": 16,
   "source": [
    "def dajKolicnika(djeljenik, djelitelj):\r\n",
    "    try:\r\n",
    "        return djeljenik / djelitelj\r\n",
    "    except ZeroDivisionError:\r\n",
    "        print(\"Nije dozvoljeno djeljenje sa nulom!\")\r\n",
    "\r\n",
    "\r\n",
    "print(dajKolicnika(7, 1))"
   ],
   "outputs": [
    {
     "output_type": "stream",
     "name": "stdout",
     "text": [
      "7.0\n"
     ]
    }
   ],
   "metadata": {}
  },
  {
   "cell_type": "code",
   "execution_count": 24,
   "source": [
    "def inverznaFunkcija(x):\r\n",
    "    return 1/x\r\n",
    "\r\n",
    "def pozivFunkcije():\r\n",
    "    try:\r\n",
    "        inverznaFunkcija(0)\r\n",
    "    except ZeroDivisionError:\r\n",
    "        print(\"Uhvatili smo djeljenje sa nulom!\")"
   ],
   "outputs": [],
   "metadata": {}
  },
  {
   "cell_type": "code",
   "execution_count": 27,
   "source": [
    "def inverznaFunkcija2(x):\r\n",
    "    try:\r\n",
    "        return 1/x\r\n",
    "    except ZeroDivisionError:\r\n",
    "        print(\"Uhvatili smo djeljenje sa nulom!\")\r\n",
    "\r\n",
    "def pozivFunkcije2():\r\n",
    "        inverznaFunkcija2(0)"
   ],
   "outputs": [],
   "metadata": {}
  },
  {
   "cell_type": "code",
   "execution_count": 28,
   "source": [
    "pozivFunkcije()\r\n",
    "pozivFunkcije2()"
   ],
   "outputs": [
    {
     "output_type": "stream",
     "name": "stdout",
     "text": [
      "Uhvatili smo djeljenje sa nulom!\n",
      "Uhvatili smo djeljenje sa nulom!\n"
     ]
    }
   ],
   "metadata": {}
  },
  {
   "cell_type": "code",
   "execution_count": 32,
   "source": [
    "def PoslovnoPravilo():\r\n",
    "    vrijednost = int(input(\"Unesi cijeli broj: \"))\r\n",
    "\r\n",
    "    try:\r\n",
    "        if vrijednost < 10:\r\n",
    "            raise RuntimeError(\"Broj mora biti veci od 9.\")\r\n",
    "    except RuntimeError as e:\r\n",
    "        print(f\"Poslovno pravilo: {e}\")"
   ],
   "outputs": [],
   "metadata": {}
  },
  {
   "cell_type": "code",
   "execution_count": null,
   "source": [
    "PoslovnoPravilo()"
   ],
   "outputs": [],
   "metadata": {}
  }
 ],
 "metadata": {
  "orig_nbformat": 4,
  "language_info": {
   "name": "python",
   "version": "3.10.0",
   "mimetype": "text/x-python",
   "codemirror_mode": {
    "name": "ipython",
    "version": 3
   },
   "pygments_lexer": "ipython3",
   "nbconvert_exporter": "python",
   "file_extension": ".py"
  },
  "kernelspec": {
   "name": "python3",
   "display_name": "Python 3.10.0 64-bit"
  },
  "interpreter": {
   "hash": "1c3d17c8a272a264af467b0f9fa443eb5bfedc8707583658bc5c94c4f85feda1"
  }
 },
 "nbformat": 4,
 "nbformat_minor": 2
}