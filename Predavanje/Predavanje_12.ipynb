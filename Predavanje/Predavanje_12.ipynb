{
 "cells": [
  {
   "cell_type": "code",
   "execution_count": 30,
   "metadata": {},
   "outputs": [],
   "source": [
    "s1 = [5,2,9,3,8,3,2,4,6,6,3,7,2,10]\n",
    "s2 = [5,2,9,3,8,3,2,4,6,6,3,7,2,10]"
   ]
  },
  {
   "cell_type": "code",
   "execution_count": 13,
   "metadata": {},
   "outputs": [],
   "source": [
    "## Aritmetička sredina\n",
    "\n",
    "def get_mean(L:list):\n",
    "    n = len(L)\n",
    "    s = sum(L)\n",
    "    return s/n"
   ]
  },
  {
   "cell_type": "code",
   "execution_count": 16,
   "metadata": {},
   "outputs": [
    {
     "name": "stdout",
     "output_type": "stream",
     "text": [
      "5.0\n"
     ]
    }
   ],
   "source": [
    "print(get_mean(s1))"
   ]
  },
  {
   "cell_type": "code",
   "execution_count": 27,
   "metadata": {},
   "outputs": [],
   "source": [
    "## Median\n",
    "\n",
    "def get_median(L:list):\n",
    "    L.sort()\n",
    "    n = len(L)\n",
    "    se = n // 2\n",
    "    if n % 2 == 0:\n",
    "        return (L[se-1] + L[se]) / 2\n",
    "    else:\n",
    "        return L[se] \n"
   ]
  },
  {
   "cell_type": "code",
   "execution_count": 32,
   "metadata": {},
   "outputs": [
    {
     "name": "stdout",
     "output_type": "stream",
     "text": [
      "[2, 2, 2, 3, 3, 3, 4, 5, 6, 6, 7, 8, 9, 10]\n",
      "4.5\n"
     ]
    }
   ],
   "source": [
    "print(s2)\n",
    "print(get_median(s2))"
   ]
  },
  {
   "cell_type": "code",
   "execution_count": 56,
   "metadata": {},
   "outputs": [],
   "source": [
    "## Mod\n",
    "\n",
    "def get_mode(L):\n",
    "    tempDict = dict()\n",
    "    for num in L:\n",
    "        if num not in tempDict:\n",
    "            tempDict[num] = 1\n",
    "        else:\n",
    "            tempDict[num] += 1\n",
    "    result = []\n",
    "    for a, cnt in tempDict.items():\n",
    "        if cnt == max(tempDict.values()):\n",
    "            result.append(a)\n",
    "    return result"
   ]
  },
  {
   "cell_type": "code",
   "execution_count": 57,
   "metadata": {},
   "outputs": [
    {
     "data": {
      "text/plain": [
       "[2, 3]"
      ]
     },
     "execution_count": 57,
     "metadata": {},
     "output_type": "execute_result"
    }
   ],
   "source": [
    "get_mode(s2)"
   ]
  },
  {
   "cell_type": "code",
   "execution_count": 59,
   "metadata": {},
   "outputs": [
    {
     "data": {
      "text/plain": [
       "2"
      ]
     },
     "execution_count": 59,
     "metadata": {},
     "output_type": "execute_result"
    }
   ],
   "source": [
    "max(set(s2), key=s2.count)"
   ]
  },
  {
   "cell_type": "code",
   "execution_count": null,
   "metadata": {},
   "outputs": [],
   "source": []
  }
 ],
 "metadata": {
  "interpreter": {
   "hash": "4480e32245891b07b354378c7dbc380a1b3f17ee24171af64af582c25470e498"
  },
  "kernelspec": {
   "display_name": "Python 3.9.7 ('base')",
   "language": "python",
   "name": "python3"
  },
  "language_info": {
   "codemirror_mode": {
    "name": "ipython",
    "version": 3
   },
   "file_extension": ".py",
   "mimetype": "text/x-python",
   "name": "python",
   "nbconvert_exporter": "python",
   "pygments_lexer": "ipython3",
   "version": "3.9.7"
  },
  "orig_nbformat": 4
 },
 "nbformat": 4,
 "nbformat_minor": 2
}
