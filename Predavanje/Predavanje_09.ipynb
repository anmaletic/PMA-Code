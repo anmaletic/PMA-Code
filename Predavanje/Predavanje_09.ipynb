{
 "cells": [
  {
   "cell_type": "code",
   "execution_count": 1,
   "metadata": {},
   "outputs": [],
   "source": [
    "prva_datoteka = open(\"nasa_prva_datoteka.txt\", \"w\")\n",
    "prva_datoteka.write(\"ovo je neki sadrzaj\")\n",
    "prva_datoteka.close()"
   ]
  },
  {
   "cell_type": "code",
   "execution_count": 3,
   "metadata": {},
   "outputs": [],
   "source": [
    "with open(\"neka_druga_datoteka.txt\", \"w\") as datoteka:\n",
    "    datoteka.write(\"neki sadrzaj\\n\")"
   ]
  },
  {
   "cell_type": "code",
   "execution_count": 6,
   "metadata": {},
   "outputs": [],
   "source": [
    "with open(\"members.txt\", \"w\") as datoteka:\n",
    "    datoteka.write(\"Pero\\n\")\n",
    "    datoteka.write(\"Tomislav\\n\")\n",
    "    datoteka.write(\"Marija\\n\")\n",
    "    datoteka.write(\"Marko\\n\")\n",
    "    datoteka.write(\"Mislav\\n\")"
   ]
  },
  {
   "cell_type": "code",
   "execution_count": 10,
   "metadata": {},
   "outputs": [
    {
     "name": "stdout",
     "output_type": "stream",
     "text": [
      "Pero\n",
      "Tomislav\n",
      "Marija\n",
      "Marko\n",
      "Mislav\n"
     ]
    }
   ],
   "source": [
    "with open(\"members.txt\") as neki_file:\n",
    "    members = neki_file.readlines()\n",
    "    for m in members:\n",
    "        print(m.replace(\"\\n\", \"\"))"
   ]
  },
  {
   "cell_type": "code",
   "execution_count": 11,
   "metadata": {},
   "outputs": [],
   "source": [
    "studenti = [\"Ante\", \"Pero\", \"Marija\"]\n",
    "with open(\"lista_studenata.txt\", \"w\") as stud_file:\n",
    "    for element in studenti:\n",
    "        stud_file.write(element +\"\\n\")"
   ]
  },
  {
   "cell_type": "code",
   "execution_count": 14,
   "metadata": {},
   "outputs": [
    {
     "name": "stdout",
     "output_type": "stream",
     "text": [
      "['Ante', 'Pero', 'Marija']\n"
     ]
    }
   ],
   "source": [
    "novi_studenti = []\n",
    "with open(\"lista_studenata.txt\", \"r\") as novi_stud_file:\n",
    "    for linija in novi_stud_file:\n",
    "        linija = linija.replace(\"\\n\", \"\")\n",
    "        novi_studenti.append(linija)\n",
    "\n",
    "print(novi_studenti)"
   ]
  },
  {
   "cell_type": "code",
   "execution_count": 19,
   "metadata": {},
   "outputs": [],
   "source": [
    "years = [1975, 1979, 1983]\n",
    "with open(\"datoteka_godina.txt\", \"w\") as file_godine:\n",
    "    for godina in years:\n",
    "        file_godine.write(str(godina)+\"\\n\")"
   ]
  },
  {
   "cell_type": "code",
   "execution_count": 20,
   "metadata": {},
   "outputs": [
    {
     "name": "stdout",
     "output_type": "stream",
     "text": [
      "[1975, 1979, 1983]\n"
     ]
    }
   ],
   "source": [
    "nova_lista_godina = []\n",
    "with open(\"datoteka_godina.txt\", \"r\") as godine_file:\n",
    "    for line in godine_file:\n",
    "        line = line.replace(\"\\n\", \"\")\n",
    "        nova_lista_godina.append(int(line))\n",
    "\n",
    "print(nova_lista_godina)\n"
   ]
  },
  {
   "cell_type": "code",
   "execution_count": 23,
   "metadata": {},
   "outputs": [],
   "source": [
    "import csv\n",
    "\n",
    "movies = [[\"Monty Python and the Holy Grail\", 1975],\n",
    "          [\"Cat on a Hot Tin Roof\", 1958]]\n",
    "\n",
    "with open(\"movies.csv\", \"w\", newline=\"\") as file:\n",
    "    writer = csv.writer(file)\n",
    "    writer.writerows(movies)"
   ]
  },
  {
   "cell_type": "code",
   "execution_count": 24,
   "metadata": {},
   "outputs": [
    {
     "name": "stdout",
     "output_type": "stream",
     "text": [
      "Monty Python and the Holy Grail (1975)\n",
      "Cat on a Hot Tin Roof (1958)\n"
     ]
    }
   ],
   "source": [
    "\n",
    "with open(\"movies.csv\", newline=\"\") as file:\n",
    "    reader = csv.reader(file)\n",
    "    for row in reader:\n",
    "        print(row[0] + \" (\" + str(row[1]) + \")\")\n",
    "    "
   ]
  },
  {
   "cell_type": "code",
   "execution_count": 30,
   "metadata": {},
   "outputs": [
    {
     "name": "stdout",
     "output_type": "stream",
     "text": [
      "2000\n",
      "2005\n"
     ]
    }
   ],
   "source": [
    "with open(\"datoteka_godina.txt\") as dat:\n",
    "    while True:\n",
    "        line = dat.readline()\n",
    "        print(line, end=\"\")\n",
    "        if not line:\n",
    "            break\n",
    "    "
   ]
  },
  {
   "cell_type": "code",
   "execution_count": 23,
   "metadata": {},
   "outputs": [
    {
     "name": "stdout",
     "output_type": "stream",
     "text": [
      "1975\n",
      "1979\n",
      "1983\n",
      "\n"
     ]
    }
   ],
   "source": [
    "with open(\"datoteka_godina.txt\") as dat:\n",
    "    string = dat.read()\n",
    "    print(string)"
   ]
  },
  {
   "cell_type": "code",
   "execution_count": 76,
   "metadata": {},
   "outputs": [
    {
     "name": "stdout",
     "output_type": "stream",
     "text": [
      "2000\n",
      "\n"
     ]
    }
   ],
   "source": [
    "with open(\"datoteka_godina.txt\", \"w\") as dat:\n",
    "    dat.write(\"2000\"  + \"\\n\")\n",
    "\n",
    "\n",
    "with open(\"datoteka_godina.txt\") as dat:\n",
    "    string = dat.read()\n",
    "    print(string)"
   ]
  },
  {
   "cell_type": "code",
   "execution_count": 85,
   "metadata": {},
   "outputs": [
    {
     "name": "stdout",
     "output_type": "stream",
     "text": [
      "2005\n",
      "2005\n",
      "2005\n",
      "\n"
     ]
    }
   ],
   "source": [
    "with open(\"datoteka_godina.txt\", \"a\") as dat:\n",
    "    dat.write(\"2005\" + \"\\n\")\n",
    "\n",
    "\n",
    "with open(\"datoteka_godina.txt\") as dat:\n",
    "    string = dat.read()\n",
    "    print(string)"
   ]
  },
  {
   "cell_type": "code",
   "execution_count": 72,
   "metadata": {},
   "outputs": [
    {
     "name": "stdout",
     "output_type": "stream",
     "text": [
      "2005\n",
      "\n"
     ]
    }
   ],
   "source": [
    "import pickle\n",
    "\n",
    "with open(\"datoteka_godina.txt\", \"wb\" ) as dat:\n",
    "    pickle.dump(\"2005\" + \"\\n\", dat)\n",
    "\n",
    "\n",
    "with open(\"datoteka_godina.txt\", \"rb\") as dat:\n",
    "    string = pickle.load(dat)\n",
    "    print(string)"
   ]
  },
  {
   "cell_type": "code",
   "execution_count": 74,
   "metadata": {},
   "outputs": [
    {
     "name": "stdout",
     "output_type": "stream",
     "text": [
      "2\n"
     ]
    }
   ],
   "source": [
    "with open(\"datoteka_godina.txt\") as dat:\n",
    "    count = 0\n",
    "    for line in dat:\n",
    "        count += 1\n",
    "    print(count)"
   ]
  },
  {
   "cell_type": "code",
   "execution_count": 2,
   "metadata": {},
   "outputs": [
    {
     "name": "stdout",
     "output_type": "stream",
     "text": [
      "3\n"
     ]
    }
   ],
   "source": [
    "with open(\"datoteka_list.txt\") as dat:\n",
    "    scount = 0\n",
    "    temp = dat.read().lower()\n",
    "    for znak in temp:\n",
    "        if znak == \"?\":\n",
    "            scount += 1\n",
    "    print(scount)"
   ]
  },
  {
   "cell_type": "code",
   "execution_count": 58,
   "metadata": {},
   "outputs": [
    {
     "name": "stdout",
     "output_type": "stream",
     "text": [
      "7\n"
     ]
    }
   ],
   "source": [
    "with open(\"lista_studenata.txt\") as dat:\n",
    "    scount = 0\n",
    "    temp = dat.read().lower()\n",
    "    for znak in temp:\n",
    "        if znak in \"aeiou\":\n",
    "            scount += 1\n",
    "    print(scount)\n"
   ]
  },
  {
   "cell_type": "code",
   "execution_count": 61,
   "metadata": {},
   "outputs": [
    {
     "name": "stdout",
     "output_type": "stream",
     "text": [
      "7\n"
     ]
    }
   ],
   "source": [
    "with open(\"lista_studenata.txt\") as dat:\n",
    "    scount = 0\n",
    "    temp = dat.read().lower()\n",
    "    for znak in temp:\n",
    "        if znak not in \"aeiou\" and znak != \"\\n\":\n",
    "            scount += 1\n",
    "    print(scount)"
   ]
  },
  {
   "cell_type": "code",
   "execution_count": 66,
   "metadata": {},
   "outputs": [
    {
     "name": "stdout",
     "output_type": "stream",
     "text": [
      "False\n"
     ]
    }
   ],
   "source": [
    "fileExists = False\n",
    "\n",
    "try:\n",
    "    with open(\"datoteka\") as dat:\n",
    "        fileExists = True\n",
    "except:\n",
    "    fileExists = False\n",
    "\n",
    "print(fileExists)"
   ]
  },
  {
   "cell_type": "code",
   "execution_count": 82,
   "metadata": {},
   "outputs": [
    {
     "name": "stdout",
     "output_type": "stream",
     "text": [
      "['Marko', 'Petar', 'Ante']\n"
     ]
    }
   ],
   "source": [
    "with open(\"datoteka_list.txt\", \"w\") as dat:\n",
    "    dat.write(\"Marko\\n\")\n",
    "    dat.write(\"Petar\\n\")\n",
    "    dat.write(\"Ante\\n\")\n",
    "\n",
    "lista = []\n",
    "with open(\"datoteka_list.txt\") as dat:\n",
    "    for line in dat:\n",
    "        lista.append(line.replace(\"\\n\", \"\"))\n",
    "print(lista)"
   ]
  },
  {
   "cell_type": "code",
   "execution_count": 83,
   "metadata": {},
   "outputs": [
    {
     "name": "stdout",
     "output_type": "stream",
     "text": [
      "Marko\n",
      "Petar\n",
      "Ante\n",
      "\n"
     ]
    }
   ],
   "source": [
    "lista = [\"Marko\", \"Petar\", \"Ante\"]\n",
    "\n",
    "with open(\"lista_u_datoteku.txt\", \"w\") as dat:\n",
    "    for ime in lista:\n",
    "        dat.write(ime + \"\\n\")\n",
    "\n",
    "with open(\"lista_u_datoteku.txt\") as dat:\n",
    "    string = dat.read()\n",
    "    print(string)\n"
   ]
  },
  {
   "cell_type": "code",
   "execution_count": null,
   "metadata": {},
   "outputs": [],
   "source": []
  }
 ],
 "metadata": {
  "interpreter": {
   "hash": "1c3d17c8a272a264af467b0f9fa443eb5bfedc8707583658bc5c94c4f85feda1"
  },
  "kernelspec": {
   "display_name": "Python 3.10.0 64-bit",
   "language": "python",
   "name": "python3"
  },
  "language_info": {
   "codemirror_mode": {
    "name": "ipython",
    "version": 3
   },
   "file_extension": ".py",
   "mimetype": "text/x-python",
   "name": "python",
   "nbconvert_exporter": "python",
   "pygments_lexer": "ipython3",
   "version": "3.10.0"
  },
  "orig_nbformat": 4
 },
 "nbformat": 4,
 "nbformat_minor": 2
}
