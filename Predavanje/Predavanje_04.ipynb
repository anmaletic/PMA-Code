{
 "cells": [
  {
   "cell_type": "code",
   "execution_count": null,
   "source": [
    "\r\n",
    "class MRZModel():    \r\n",
    "    prezime:str\r\n",
    "    ime:str\r\n",
    "    datum = \"\"\r\n",
    "    rok = \"\"\r\n",
    "    drzava = \"\"\r\n",
    "    spol = \"\"\r\n",
    "    oib = \"\"\r\n",
    "\r\n",
    "    def __str__(self) -> str:\r\n",
    "        return (f\"{self.ime} {self.prezime}\\n{self.datum}\\n{self.rok}\\n{self.drzava}\\n{self.spol}\\n{self.oib}\\n\")\r\n",
    "\r\n",
    "\r\n",
    "test = MRZModel()\r\n",
    "test.ime = \"Antonio\"\r\n",
    "test.prezime = \"Maletić\"\r\n",
    "test.datum = \"19.10.1989.\"\r\n",
    "\r\n",
    "test2 = MRZModel()\r\n",
    "test2.ime = \"Imeee\"\r\n",
    "test2.prezime = \"Prezimeee\"\r\n",
    "test2.datum = \"dd.mm.yyyy.\"\r\n",
    "\r\n",
    "print(test)\r\n",
    "print(test2)"
   ],
   "outputs": [],
   "metadata": {}
  },
  {
   "cell_type": "code",
   "execution_count": 13,
   "source": [
    "class Person:\r\n",
    "    pass"
   ],
   "outputs": [],
   "metadata": {}
  },
  {
   "cell_type": "code",
   "execution_count": 16,
   "source": [
    "type(Person)"
   ],
   "outputs": [
    {
     "output_type": "execute_result",
     "data": {
      "text/plain": [
       "type"
      ]
     },
     "metadata": {},
     "execution_count": 16
    }
   ],
   "metadata": {}
  },
  {
   "cell_type": "code",
   "execution_count": 14,
   "source": [
    "Person.__name__"
   ],
   "outputs": [
    {
     "output_type": "execute_result",
     "data": {
      "text/plain": [
       "'Person'"
      ]
     },
     "metadata": {},
     "execution_count": 14
    }
   ],
   "metadata": {}
  },
  {
   "cell_type": "code",
   "execution_count": 18,
   "source": [
    "setattr(Person, \"Ime\", \"Antonio\")\r\n",
    "setattr(Person, \"Prezime\", \"Maletić\")\r\n",
    "\r\n",
    "print(Person.Ime)\r\n",
    "print(Person.Prezime)"
   ],
   "outputs": [
    {
     "output_type": "stream",
     "name": "stdout",
     "text": [
      "Antonio\n",
      "Maletić\n"
     ]
    }
   ],
   "metadata": {}
  },
  {
   "cell_type": "code",
   "execution_count": 23,
   "source": [
    "getattr(Person, \"Ime\")"
   ],
   "outputs": [
    {
     "output_type": "execute_result",
     "data": {
      "text/plain": [
       "'Antonio'"
      ]
     },
     "metadata": {},
     "execution_count": 23
    }
   ],
   "metadata": {}
  },
  {
   "cell_type": "code",
   "execution_count": 24,
   "source": [
    "Person.__dict__"
   ],
   "outputs": [
    {
     "output_type": "execute_result",
     "data": {
      "text/plain": [
       "mappingproxy({'__module__': '__main__',\n",
       "              '__dict__': <attribute '__dict__' of 'Person' objects>,\n",
       "              '__weakref__': <attribute '__weakref__' of 'Person' objects>,\n",
       "              '__doc__': None,\n",
       "              'Ime': 'Antonio',\n",
       "              'Prezime': 'Maletić'})"
      ]
     },
     "metadata": {},
     "execution_count": 24
    }
   ],
   "metadata": {}
  },
  {
   "cell_type": "code",
   "execution_count": null,
   "source": [],
   "outputs": [],
   "metadata": {}
  }
 ],
 "metadata": {
  "orig_nbformat": 4,
  "language_info": {
   "name": "python",
   "version": "3.10.0",
   "mimetype": "text/x-python",
   "codemirror_mode": {
    "name": "ipython",
    "version": 3
   },
   "pygments_lexer": "ipython3",
   "nbconvert_exporter": "python",
   "file_extension": ".py"
  },
  "kernelspec": {
   "name": "python3",
   "display_name": "Python 3.10.0 64-bit"
  },
  "interpreter": {
   "hash": "1c3d17c8a272a264af467b0f9fa443eb5bfedc8707583658bc5c94c4f85feda1"
  }
 },
 "nbformat": 4,
 "nbformat_minor": 2
}