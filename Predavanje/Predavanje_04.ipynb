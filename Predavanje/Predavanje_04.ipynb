{
 "cells": [
  {
   "cell_type": "code",
   "execution_count": null,
   "source": [
    "\r\n",
    "class MRZModel():    \r\n",
    "    prezime:str\r\n",
    "    ime:str\r\n",
    "    datum = \"\"\r\n",
    "    rok = \"\"\r\n",
    "    drzava = \"\"\r\n",
    "    spol = \"\"\r\n",
    "    oib = \"\"\r\n",
    "\r\n",
    "    def __str__(self) -> str:\r\n",
    "        return (f\"{self.ime} {self.prezime}\\n{self.datum}\\n{self.rok}\\n{self.drzava}\\n{self.spol}\\n{self.oib}\\n\")\r\n",
    "\r\n",
    "\r\n",
    "test = MRZModel()\r\n",
    "test.ime = \"Antonio\"\r\n",
    "test.prezime = \"Maletić\"\r\n",
    "test.datum = \"19.10.1989.\"\r\n",
    "\r\n",
    "test2 = MRZModel()\r\n",
    "test2.ime = \"Imeee\"\r\n",
    "test2.prezime = \"Prezimeee\"\r\n",
    "test2.datum = \"dd.mm.yyyy.\"\r\n",
    "\r\n",
    "print(test)\r\n",
    "print(test2)"
   ],
   "outputs": [],
   "metadata": {}
  },
  {
   "cell_type": "code",
   "execution_count": 13,
   "source": [
    "class Person:\r\n",
    "    pass"
   ],
   "outputs": [],
   "metadata": {}
  },
  {
   "cell_type": "code",
   "execution_count": 16,
   "source": [
    "type(Person)"
   ],
   "outputs": [
    {
     "output_type": "execute_result",
     "data": {
      "text/plain": [
       "type"
      ]
     },
     "metadata": {},
     "execution_count": 16
    }
   ],
   "metadata": {}
  },
  {
   "cell_type": "code",
   "execution_count": 14,
   "source": [
    "Person.__name__"
   ],
   "outputs": [
    {
     "output_type": "execute_result",
     "data": {
      "text/plain": [
       "'Person'"
      ]
     },
     "metadata": {},
     "execution_count": 14
    }
   ],
   "metadata": {}
  },
  {
   "cell_type": "code",
   "execution_count": 18,
   "source": [
    "setattr(Person, \"Ime\", \"Antonio\")\r\n",
    "setattr(Person, \"Prezime\", \"Maletić\")\r\n",
    "\r\n",
    "print(Person.Ime)\r\n",
    "print(Person.Prezime)"
   ],
   "outputs": [
    {
     "output_type": "stream",
     "name": "stdout",
     "text": [
      "Antonio\n",
      "Maletić\n"
     ]
    }
   ],
   "metadata": {}
  },
  {
   "cell_type": "code",
   "execution_count": 23,
   "source": [
    "getattr(Person, \"Ime\")"
   ],
   "outputs": [
    {
     "output_type": "execute_result",
     "data": {
      "text/plain": [
       "'Antonio'"
      ]
     },
     "metadata": {},
     "execution_count": 23
    }
   ],
   "metadata": {}
  },
  {
   "cell_type": "code",
   "execution_count": 24,
   "source": [
    "Person.__dict__"
   ],
   "outputs": [
    {
     "output_type": "execute_result",
     "data": {
      "text/plain": [
       "mappingproxy({'__module__': '__main__',\n",
       "              '__dict__': <attribute '__dict__' of 'Person' objects>,\n",
       "              '__weakref__': <attribute '__weakref__' of 'Person' objects>,\n",
       "              '__doc__': None,\n",
       "              'Ime': 'Antonio',\n",
       "              'Prezime': 'Maletić'})"
      ]
     },
     "metadata": {},
     "execution_count": 24
    }
   ],
   "metadata": {}
  },
  {
   "cell_type": "code",
   "execution_count": 52,
   "source": [
    "class KlasaBrojacInstanci:\r\n",
    "    _brojPrimjeraka = 0\r\n",
    "\r\n",
    "    def __init__(self):\r\n",
    "        KlasaBrojacInstanci._brojPrimjeraka += 1\r\n",
    "\r\n",
    "    @staticmethod\r\n",
    "    def ponistiBrojac():\r\n",
    "        KlasaBrojacInstanci._brojPrimjeraka = 0\r\n",
    "        print(KlasaBrojacInstanci._brojPrimjeraka)"
   ],
   "outputs": [],
   "metadata": {}
  },
  {
   "cell_type": "code",
   "execution_count": 53,
   "source": [
    "prvaInstanca = KlasaBrojacInstanci()\r\n",
    "print(KlasaBrojacInstanci._brojPrimjeraka)\r\n",
    "\r\n",
    "drugaInstanca = KlasaBrojacInstanci()\r\n",
    "print(KlasaBrojacInstanci._brojPrimjeraka)\r\n",
    "\r\n",
    "trecaInstanca = KlasaBrojacInstanci()\r\n",
    "print(KlasaBrojacInstanci._brojPrimjeraka)\r\n",
    "\r\n",
    "cetvrtaInstanca = KlasaBrojacInstanci()\r\n",
    "print(KlasaBrojacInstanci._brojPrimjeraka)"
   ],
   "outputs": [
    {
     "output_type": "stream",
     "name": "stdout",
     "text": [
      "1\n",
      "2\n",
      "3\n",
      "4\n"
     ]
    }
   ],
   "metadata": {}
  },
  {
   "cell_type": "code",
   "execution_count": 54,
   "source": [
    "print(KlasaBrojacInstanci._brojPrimjeraka)\r\n",
    "KlasaBrojacInstanci.ponistiBrojac()"
   ],
   "outputs": [
    {
     "output_type": "stream",
     "name": "stdout",
     "text": [
      "4\n",
      "0\n"
     ]
    }
   ],
   "metadata": {}
  },
  {
   "cell_type": "code",
   "execution_count": 55,
   "source": [
    "print(KlasaBrojacInstanci._brojPrimjeraka)\r\n",
    "trecaInstanca.ponistiBrojac()"
   ],
   "outputs": [
    {
     "output_type": "stream",
     "name": "stdout",
     "text": [
      "0\n",
      "0\n"
     ]
    }
   ],
   "metadata": {}
  },
  {
   "cell_type": "code",
   "execution_count": 42,
   "source": [
    "class NekaKlasa:\r\n",
    "    _broj = 1\r\n",
    "\r\n",
    "print(NekaKlasa._broj)"
   ],
   "outputs": [
    {
     "output_type": "stream",
     "name": "stdout",
     "text": [
      "1\n"
     ]
    }
   ],
   "metadata": {}
  },
  {
   "cell_type": "code",
   "execution_count": 44,
   "source": [
    "inst1 = NekaKlasa()\r\n",
    "print(inst1._broj)\r\n",
    "\r\n",
    "inst1._broj = 5\r\n",
    "\r\n",
    "print(NekaKlasa._broj, inst1._broj)"
   ],
   "outputs": [
    {
     "output_type": "stream",
     "name": "stdout",
     "text": [
      "1\n",
      "1 5\n"
     ]
    }
   ],
   "metadata": {}
  },
  {
   "cell_type": "code",
   "execution_count": 63,
   "source": [
    "class Student():\r\n",
    "    def __init__(self, p_prosjek) -> None:\r\n",
    "        self.prosjek = p_prosjek\r\n",
    "\r\n",
    "    def __eq__(self, __o: object) -> bool:\r\n",
    "        return self.prosjek == __o.prosjek\r\n",
    "\r\n",
    "\r\n",
    "def main():\r\n",
    "    stud1 = Student(4.2)\r\n",
    "    stud2 = Student(3.8)\r\n",
    "    stud3 = Student(4.2)\r\n",
    "\r\n",
    "    print(stud1 == stud2)\r\n",
    "    print(stud1 == stud3)\r\n",
    "\r\n",
    "\r\n",
    "main()"
   ],
   "outputs": [
    {
     "output_type": "stream",
     "name": "stdout",
     "text": [
      "False\n",
      "True\n",
      "True\n"
     ]
    }
   ],
   "metadata": {}
  },
  {
   "cell_type": "code",
   "execution_count": 69,
   "source": [
    "class StudentJednakost():\r\n",
    "    def __init__(self, p_prosjek) -> None:\r\n",
    "        self.prosjek = p_prosjek\r\n",
    "\r\n",
    "def main():\r\n",
    "    stud1 = StudentJednakost(4.2)\r\n",
    "    stud2 = StudentJednakost(3.8)\r\n",
    "    stud3 = stud1\r\n",
    "\r\n",
    "    print(stud1 == stud2)\r\n",
    "    print(stud1 == stud3)\r\n",
    "\r\n",
    "\r\n",
    "main()"
   ],
   "outputs": [
    {
     "output_type": "stream",
     "name": "stdout",
     "text": [
      "False\n",
      "True\n"
     ]
    }
   ],
   "metadata": {}
  },
  {
   "cell_type": "code",
   "execution_count": 1,
   "source": [
    "l = list(\"abc\")\r\n",
    "print(l)"
   ],
   "outputs": [
    {
     "output_type": "stream",
     "name": "stdout",
     "text": [
      "['a', 'b', 'c']\n"
     ]
    }
   ],
   "metadata": {}
  }
 ],
 "metadata": {
  "orig_nbformat": 4,
  "language_info": {
   "name": "python",
   "version": "3.10.0",
   "mimetype": "text/x-python",
   "codemirror_mode": {
    "name": "ipython",
    "version": 3
   },
   "pygments_lexer": "ipython3",
   "nbconvert_exporter": "python",
   "file_extension": ".py"
  },
  "kernelspec": {
   "name": "python3",
   "display_name": "Python 3.10.0 64-bit"
  },
  "interpreter": {
   "hash": "1c3d17c8a272a264af467b0f9fa443eb5bfedc8707583658bc5c94c4f85feda1"
  }
 },
 "nbformat": 4,
 "nbformat_minor": 2
}