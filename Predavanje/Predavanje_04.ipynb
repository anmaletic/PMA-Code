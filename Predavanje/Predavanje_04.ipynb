{
 "cells": [
  {
   "cell_type": "code",
   "execution_count": 1,
   "metadata": {},
   "outputs": [
    {
     "name": "stdout",
     "output_type": "stream",
     "text": [
      "Antonio Maletić\n",
      "19.10.1989.\n",
      "\n",
      "\n",
      "\n",
      "\n",
      "\n",
      "Imeee Prezimeee\n",
      "dd.mm.yyyy.\n",
      "\n",
      "\n",
      "\n",
      "\n",
      "\n"
     ]
    }
   ],
   "source": [
    "\n",
    "class MRZModel():    \n",
    "    prezime:str\n",
    "    ime:str\n",
    "    datum = \"\"\n",
    "    rok = \"\"\n",
    "    drzava = \"\"\n",
    "    spol = \"\"\n",
    "    oib = \"\"\n",
    "\n",
    "    def __str__(self) -> str:\n",
    "        return (f\"{self.ime} {self.prezime}\\n{self.datum}\\n{self.rok}\\n{self.drzava}\\n{self.spol}\\n{self.oib}\\n\")\n",
    "\n",
    "\n",
    "test = MRZModel()\n",
    "test.ime = \"Antonio\"\n",
    "test.prezime = \"Maletić\"\n",
    "test.datum = \"19.10.1989.\"\n",
    "\n",
    "test2 = MRZModel()\n",
    "test2.ime = \"Imeee\"\n",
    "test2.prezime = \"Prezimeee\"\n",
    "test2.datum = \"dd.mm.yyyy.\"\n",
    "\n",
    "print(test)\n",
    "print(test2)"
   ]
  },
  {
   "cell_type": "code",
   "execution_count": 13,
   "metadata": {},
   "outputs": [],
   "source": [
    "class Person:\n",
    "    pass"
   ]
  },
  {
   "cell_type": "code",
   "execution_count": 16,
   "metadata": {},
   "outputs": [
    {
     "data": {
      "text/plain": [
       "type"
      ]
     },
     "execution_count": 16,
     "metadata": {},
     "output_type": "execute_result"
    }
   ],
   "source": [
    "type(Person)"
   ]
  },
  {
   "cell_type": "code",
   "execution_count": 14,
   "metadata": {},
   "outputs": [
    {
     "data": {
      "text/plain": [
       "'Person'"
      ]
     },
     "execution_count": 14,
     "metadata": {},
     "output_type": "execute_result"
    }
   ],
   "source": [
    "Person.__name__"
   ]
  },
  {
   "cell_type": "code",
   "execution_count": 18,
   "metadata": {},
   "outputs": [
    {
     "name": "stdout",
     "output_type": "stream",
     "text": [
      "Antonio\n",
      "Maletić\n"
     ]
    }
   ],
   "source": [
    "setattr(Person, \"Ime\", \"Antonio\")\n",
    "setattr(Person, \"Prezime\", \"Maletić\")\n",
    "\n",
    "print(Person.Ime)\n",
    "print(Person.Prezime)"
   ]
  },
  {
   "cell_type": "code",
   "execution_count": 23,
   "metadata": {},
   "outputs": [
    {
     "data": {
      "text/plain": [
       "'Antonio'"
      ]
     },
     "execution_count": 23,
     "metadata": {},
     "output_type": "execute_result"
    }
   ],
   "source": [
    "getattr(Person, \"Ime\")"
   ]
  },
  {
   "cell_type": "code",
   "execution_count": 24,
   "metadata": {},
   "outputs": [
    {
     "data": {
      "text/plain": [
       "mappingproxy({'__module__': '__main__',\n",
       "              '__dict__': <attribute '__dict__' of 'Person' objects>,\n",
       "              '__weakref__': <attribute '__weakref__' of 'Person' objects>,\n",
       "              '__doc__': None,\n",
       "              'Ime': 'Antonio',\n",
       "              'Prezime': 'Maletić'})"
      ]
     },
     "execution_count": 24,
     "metadata": {},
     "output_type": "execute_result"
    }
   ],
   "source": [
    "Person.__dict__"
   ]
  },
  {
   "cell_type": "code",
   "execution_count": 52,
   "metadata": {},
   "outputs": [],
   "source": [
    "class KlasaBrojacInstanci:\n",
    "    _brojPrimjeraka = 0\n",
    "\n",
    "    def __init__(self):\n",
    "        KlasaBrojacInstanci._brojPrimjeraka += 1\n",
    "\n",
    "    @staticmethod\n",
    "    def ponistiBrojac():\n",
    "        KlasaBrojacInstanci._brojPrimjeraka = 0\n",
    "        print(KlasaBrojacInstanci._brojPrimjeraka)"
   ]
  },
  {
   "cell_type": "code",
   "execution_count": 53,
   "metadata": {},
   "outputs": [
    {
     "name": "stdout",
     "output_type": "stream",
     "text": [
      "1\n",
      "2\n",
      "3\n",
      "4\n"
     ]
    }
   ],
   "source": [
    "prvaInstanca = KlasaBrojacInstanci()\n",
    "print(KlasaBrojacInstanci._brojPrimjeraka)\n",
    "\n",
    "drugaInstanca = KlasaBrojacInstanci()\n",
    "print(KlasaBrojacInstanci._brojPrimjeraka)\n",
    "\n",
    "trecaInstanca = KlasaBrojacInstanci()\n",
    "print(KlasaBrojacInstanci._brojPrimjeraka)\n",
    "\n",
    "cetvrtaInstanca = KlasaBrojacInstanci()\n",
    "print(KlasaBrojacInstanci._brojPrimjeraka)"
   ]
  },
  {
   "cell_type": "code",
   "execution_count": 54,
   "metadata": {},
   "outputs": [
    {
     "name": "stdout",
     "output_type": "stream",
     "text": [
      "4\n",
      "0\n"
     ]
    }
   ],
   "source": [
    "print(KlasaBrojacInstanci._brojPrimjeraka)\n",
    "KlasaBrojacInstanci.ponistiBrojac()"
   ]
  },
  {
   "cell_type": "code",
   "execution_count": 55,
   "metadata": {},
   "outputs": [
    {
     "name": "stdout",
     "output_type": "stream",
     "text": [
      "0\n",
      "0\n"
     ]
    }
   ],
   "source": [
    "print(KlasaBrojacInstanci._brojPrimjeraka)\n",
    "trecaInstanca.ponistiBrojac()"
   ]
  },
  {
   "cell_type": "code",
   "execution_count": 42,
   "metadata": {},
   "outputs": [
    {
     "name": "stdout",
     "output_type": "stream",
     "text": [
      "1\n"
     ]
    }
   ],
   "source": [
    "class NekaKlasa:\n",
    "    _broj = 1\n",
    "\n",
    "print(NekaKlasa._broj)"
   ]
  },
  {
   "cell_type": "code",
   "execution_count": 44,
   "metadata": {},
   "outputs": [
    {
     "name": "stdout",
     "output_type": "stream",
     "text": [
      "1\n",
      "1 5\n"
     ]
    }
   ],
   "source": [
    "inst1 = NekaKlasa()\n",
    "print(inst1._broj)\n",
    "\n",
    "inst1._broj = 5\n",
    "\n",
    "print(NekaKlasa._broj, inst1._broj)"
   ]
  },
  {
   "cell_type": "code",
   "execution_count": 63,
   "metadata": {},
   "outputs": [
    {
     "name": "stdout",
     "output_type": "stream",
     "text": [
      "False\n",
      "True\n",
      "True\n"
     ]
    }
   ],
   "source": [
    "class Student():\n",
    "    def __init__(self, p_prosjek) -> None:\n",
    "        self.prosjek = p_prosjek\n",
    "\n",
    "    def __eq__(self, __o: object) -> bool:\n",
    "        return self.prosjek == __o.prosjek\n",
    "\n",
    "\n",
    "def main():\n",
    "    stud1 = Student(4.2)\n",
    "    stud2 = Student(3.8)\n",
    "    stud3 = Student(4.2)\n",
    "\n",
    "    print(stud1 == stud2)\n",
    "    print(stud1 == stud3)\n",
    "\n",
    "\n",
    "main()"
   ]
  },
  {
   "cell_type": "code",
   "execution_count": 69,
   "metadata": {},
   "outputs": [
    {
     "name": "stdout",
     "output_type": "stream",
     "text": [
      "False\n",
      "True\n"
     ]
    }
   ],
   "source": [
    "class StudentJednakost():\n",
    "    def __init__(self, p_prosjek) -> None:\n",
    "        self.prosjek = p_prosjek\n",
    "\n",
    "def main():\n",
    "    stud1 = StudentJednakost(4.2)\n",
    "    stud2 = StudentJednakost(3.8)\n",
    "    stud3 = stud1\n",
    "\n",
    "    print(stud1 == stud2)\n",
    "    print(stud1 == stud3)\n",
    "\n",
    "\n",
    "main()"
   ]
  },
  {
   "cell_type": "code",
   "execution_count": 1,
   "metadata": {},
   "outputs": [
    {
     "name": "stdout",
     "output_type": "stream",
     "text": [
      "['a', 'b', 'c']\n"
     ]
    }
   ],
   "source": [
    "l = list(\"abc\")\n",
    "print(l)"
   ]
  }
 ],
 "metadata": {
  "interpreter": {
   "hash": "1c3d17c8a272a264af467b0f9fa443eb5bfedc8707583658bc5c94c4f85feda1"
  },
  "kernelspec": {
   "display_name": "Python 3.10.0 64-bit",
   "name": "python3"
  },
  "language_info": {
   "codemirror_mode": {
    "name": "ipython",
    "version": 3
   },
   "file_extension": ".py",
   "mimetype": "text/x-python",
   "name": "python",
   "nbconvert_exporter": "python",
   "pygments_lexer": "ipython3",
   "version": "3.10.0"
  },
  "orig_nbformat": 4
 },
 "nbformat": 4,
 "nbformat_minor": 2
}
