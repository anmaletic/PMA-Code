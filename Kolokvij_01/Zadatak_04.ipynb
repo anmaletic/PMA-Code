{
 "cells": [
  {
   "cell_type": "markdown",
   "metadata": {},
   "source": [
    "![](2022-06-27-08-29-45.png)"
   ]
  },
  {
   "cell_type": "markdown",
   "metadata": {},
   "source": [
    "![](2022-06-27-11-03-28.png)"
   ]
  },
  {
   "cell_type": "code",
   "execution_count": 65,
   "metadata": {},
   "outputs": [],
   "source": [
    "class Osoba(object):\n",
    "    id = 0\n",
    "    def __init__(self, p_ime, p_dat_rodj, p_oib):\n",
    "        Osoba.id += 1\n",
    "        self.ime = p_ime\n",
    "        self.dat_rodj = p_dat_rodj\n",
    "        self.oib = p_oib\n",
    "        \n",
    "    def getDatRodj(self):\n",
    "        print(self.dat_rodj)\n",
    "        \n",
    "class Student(Osoba):\n",
    "    def __init__(self, p_ime, p_dat_rodj, p_oib, p_stud_id = 0, p_god_studija = 2021):\n",
    "        super().__init__(p_ime, p_dat_rodj, p_oib)\n",
    "        self.stud_id = p_stud_id\n",
    "        self.god_studija = p_god_studija\n",
    "\n",
    "class Mentor(Osoba):\n",
    "    def __init__(self, p_ime, p_dat_rodj, p_oib, p_nast_id = 0, p_kolegiji = []):        \n",
    "        super().__init__(p_ime, p_dat_rodj, p_oib)\n",
    "        self.nast_id = p_nast_id\n",
    "        self.kolegiji = p_kolegiji        \n",
    "\n",
    "    def __eq__(self, target):\n",
    "        return self.kolegiji == target.kolegiji\n"
   ]
  },
  {
   "cell_type": "markdown",
   "metadata": {},
   "source": [
    "![](2022-06-27-11-15-25.png)"
   ]
  },
  {
   "cell_type": "code",
   "execution_count": 18,
   "metadata": {},
   "outputs": [
    {
     "name": "stdout",
     "output_type": "stream",
     "text": [
      "0\n",
      "1\n",
      "1\n",
      "12\n",
      "12\n",
      "12\n",
      "5\n"
     ]
    }
   ],
   "source": [
    "print(Osoba.id)\n",
    "osoba1 = Osoba(\"Antonio\", \"19.10.1989\", \"12312312312\")\n",
    "\n",
    "print(Osoba.id)\n",
    "print(osoba1.id)\n",
    "\n",
    "Osoba.id = 12\n",
    "print(Osoba.id)\n",
    "print(osoba1.id)\n",
    "\n",
    "osoba1.id = 5\n",
    "\n",
    "print(Osoba.id)\n",
    "print(osoba1.id)\n",
    "\n"
   ]
  },
  {
   "cell_type": "markdown",
   "metadata": {},
   "source": [
    "![](2022-06-27-11-20-17.png)"
   ]
  },
  {
   "cell_type": "code",
   "execution_count": null,
   "metadata": {},
   "outputs": [],
   "source": []
  },
  {
   "cell_type": "markdown",
   "metadata": {},
   "source": [
    "![](2022-06-27-11-21-40.png)"
   ]
  },
  {
   "cell_type": "code",
   "execution_count": 52,
   "metadata": {},
   "outputs": [
    {
     "name": "stdout",
     "output_type": "stream",
     "text": [
      "True\n",
      "False\n"
     ]
    }
   ],
   "source": [
    "stud1 = Student(\"Antonio\", \"19.10.1989\", \"12312312312\", 123, 2022)\n",
    "stud2 = stud1\n",
    "\n",
    "print(stud1 == stud2)\n",
    "\n",
    "stud3 = Student(\"Antonio\", \"19.10.1989\", \"12312312312\", 123, 2022)\n",
    "print(stud1 == stud3)\n",
    "\n",
    "# Jednakost po identitetu uspoređuje adrese objekata, a ne sadržaj\n",
    "\n"
   ]
  },
  {
   "cell_type": "markdown",
   "metadata": {},
   "source": [
    "![](2022-06-27-11-31-49.png)"
   ]
  },
  {
   "cell_type": "code",
   "execution_count": 55,
   "metadata": {},
   "outputs": [
    {
     "name": "stdout",
     "output_type": "stream",
     "text": [
      "19.10.1989\n"
     ]
    }
   ],
   "source": [
    "stud3.getDatRodj()\n",
    "\n",
    "# Može, jer instanca Student poprima metodu nadklase Osoba\n"
   ]
  },
  {
   "cell_type": "markdown",
   "metadata": {},
   "source": [
    "![](2022-06-27-11-42-10.png)"
   ]
  },
  {
   "cell_type": "code",
   "execution_count": 58,
   "metadata": {},
   "outputs": [
    {
     "name": "stdout",
     "output_type": "stream",
     "text": [
      "['PNUM', 'LALG']\n"
     ]
    }
   ],
   "source": [
    "MentorZaMatematiku = Mentor(\"MarCac\", \"12.02.2132.\", \"09809809843\", 23, [\"PNUM\", \"LALG\"])\n",
    "\n",
    "print(MentorZaMatematiku.kolegiji)"
   ]
  },
  {
   "cell_type": "markdown",
   "metadata": {},
   "source": [
    "![](2022-06-27-11-43-52.png)"
   ]
  },
  {
   "cell_type": "code",
   "execution_count": 67,
   "metadata": {},
   "outputs": [
    {
     "name": "stdout",
     "output_type": "stream",
     "text": [
      "True\n"
     ]
    }
   ],
   "source": [
    "MenZaMat = Mentor(\"VladKrst\", \"12.04.9211\", \"65478356976\", 88, [\"PNUM\", \"LALG\"])\n",
    "\n",
    "print(MentorZaMatematiku == MenZaMat)\n",
    "\n",
    "# Ekvivalentnost je usporedivanje objekata po sadrzaju. U funkciji __eq__ mozemo sami odabrati uvijet jednakosti dva člana.\n",
    "# Mi smo odabrali da nam kolegiji 2 mentora moraju biti isti, te tada funkcija vraca True."
   ]
  },
  {
   "cell_type": "markdown",
   "metadata": {},
   "source": []
  }
 ],
 "metadata": {
  "interpreter": {
   "hash": "c347c8f9a7ef94e4c9e03b4513be7835ed18f45b99a2a817fb579f408b867b16"
  },
  "kernelspec": {
   "display_name": "Python 3.9.7 64-bit",
   "language": "python",
   "name": "python3"
  },
  "language_info": {
   "codemirror_mode": {
    "name": "ipython",
    "version": 3
   },
   "file_extension": ".py",
   "mimetype": "text/x-python",
   "name": "python",
   "nbconvert_exporter": "python",
   "pygments_lexer": "ipython3",
   "version": "3.9.7"
  },
  "orig_nbformat": 4
 },
 "nbformat": 4,
 "nbformat_minor": 2
}
