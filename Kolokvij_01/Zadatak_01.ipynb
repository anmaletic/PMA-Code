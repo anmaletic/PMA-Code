{
 "cells": [
  {
   "cell_type": "markdown",
   "metadata": {},
   "source": [
    "![](2022-06-24-13-27-18.png)"
   ]
  },
  {
   "cell_type": "markdown",
   "metadata": {},
   "source": [
    "![](2022-06-24-13-27-59.png)"
   ]
  },
  {
   "cell_type": "code",
   "execution_count": 1,
   "metadata": {},
   "outputs": [
    {
     "name": "stdout",
     "output_type": "stream",
     "text": [
      "12312321312\n"
     ]
    }
   ],
   "source": [
    "while True:\n",
    "    oib = input(\"Unesite OIB\")\n",
    "    if len(oib) == 11 and oib.isdigit():\n",
    "        print(oib)\n",
    "        break"
   ]
  },
  {
   "cell_type": "markdown",
   "metadata": {},
   "source": [
    "![](2022-06-24-13-29-54.png)"
   ]
  },
  {
   "cell_type": "code",
   "execution_count": 5,
   "metadata": {},
   "outputs": [
    {
     "name": "stdout",
     "output_type": "stream",
     "text": [
      "[7, 9, 4, 6, 8, 5, 3, 1, 9, 54, 68, 41, 32, 37, 2]\n",
      "2\n",
      "32\n",
      "68\n",
      "54\n",
      "8\n",
      "6\n",
      "4\n"
     ]
    }
   ],
   "source": [
    "def getObratneParne(L:list):\n",
    "    L.reverse()\n",
    "    for num in L:\n",
    "        if num % 2 == 0:\n",
    "            print(num)\n",
    "\n",
    "lista = []\n",
    "while lista.count(2) == 0:\n",
    "    unos = int(input(\"Unesite broj: \"))\n",
    "    lista.append(unos)\n",
    "\n",
    "print(lista)\n",
    "getObratneParne(lista)"
   ]
  },
  {
   "cell_type": "markdown",
   "metadata": {},
   "source": [
    "![](2022-06-24-13-34-46.png)"
   ]
  },
  {
   "cell_type": "code",
   "execution_count": 10,
   "metadata": {},
   "outputs": [],
   "source": [
    "class KorisnickiIzuzetak(Exception):\n",
    "    pass\n",
    "\n",
    "\n",
    "unos = int(input(\"Unesite cijeli broj djeljiv sa 17: \"))\n",
    "\n",
    "if unos % 17 != 0:\n",
    "    raise KorisnickiIzuzetak(\"Uneseni broj mora bit djeljiv sa 17\")"
   ]
  },
  {
   "cell_type": "markdown",
   "metadata": {},
   "source": [
    "![](2022-06-24-13-37-55.png)"
   ]
  },
  {
   "cell_type": "code",
   "execution_count": 14,
   "metadata": {},
   "outputs": [
    {
     "name": "stdout",
     "output_type": "stream",
     "text": [
      "9\n",
      "[11, 12, 13, 14, 15, 16, 17, 18, 19]\n",
      "[11, 12, 13, 14, 15, 16, 17, 18, 19]\n",
      "[11, 12, 13, 14, 15, 16, 17, 18, 19, 2]\n",
      "[11, 12, 13, 14, 15, 16, 17, 18, 19]\n",
      "[11, 12, 13, 14, 15, 16, 17, 18, 19, 7]\n",
      "[11, 12, 13, 14, 15, 16, 17, 18, 19, 7]\n"
     ]
    }
   ],
   "source": [
    "import random as rnd\n",
    "import copy\n",
    "\n",
    "L = []\n",
    "b = rnd.randint(5, 14)\n",
    "print(b)\n",
    "\n",
    "while len(L) < b:\n",
    "    unos = int(input(\"Unesite broj (10-60): \"))\n",
    "\n",
    "    if unos >= 10 and unos <= 60 and unos not in L:\n",
    "        L.append(unos)\n",
    "\n",
    "print(L)\n",
    "\n",
    "# O(n)\n",
    "    \n",
    "LDCopy = copy.deepcopy(L)\n",
    "print(LDCopy)\n",
    "LDCopy.append(2)\n",
    "\n",
    "print(LDCopy)\n",
    "print(L)\n",
    "\n",
    "LPCopy = L\n",
    "LPCopy.append(7)\n",
    "print(LPCopy)\n",
    "print(L)\n",
    "\n",
    "# Duboka kopija napravi stvarnu kopiju liste, te se promjenom vrijednosti u dubokoj kopiji ne mjenjaju vrijednosti originalne liste.\n",
    "# Dok se promjenom plitke liste mjenja i originalna lista.\n",
    "\n"
   ]
  },
  {
   "cell_type": "code",
   "execution_count": null,
   "metadata": {},
   "outputs": [],
   "source": []
  }
 ],
 "metadata": {
  "interpreter": {
   "hash": "c347c8f9a7ef94e4c9e03b4513be7835ed18f45b99a2a817fb579f408b867b16"
  },
  "kernelspec": {
   "display_name": "Python 3.9.7 64-bit",
   "language": "python",
   "name": "python3"
  },
  "language_info": {
   "codemirror_mode": {
    "name": "ipython",
    "version": 3
   },
   "file_extension": ".py",
   "mimetype": "text/x-python",
   "name": "python",
   "nbconvert_exporter": "python",
   "pygments_lexer": "ipython3",
   "version": "3.9.7"
  },
  "orig_nbformat": 4
 },
 "nbformat": 4,
 "nbformat_minor": 2
}
