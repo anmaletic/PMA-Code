{
 "cells": [
  {
   "cell_type": "markdown",
   "metadata": {},
   "source": [
    "![](2022-06-24-14-08-29.png)"
   ]
  },
  {
   "cell_type": "markdown",
   "metadata": {},
   "source": [
    "![](2022-06-24-14-08-45.png)"
   ]
  },
  {
   "cell_type": "code",
   "execution_count": 5,
   "metadata": {},
   "outputs": [],
   "source": [
    "import random as rnd\n",
    "\n",
    "a = rnd.randint(2,5)\n",
    "b = rnd.randint(2,5)"
   ]
  },
  {
   "cell_type": "markdown",
   "metadata": {},
   "source": [
    "![](2022-06-24-14-09-44.png)"
   ]
  },
  {
   "cell_type": "code",
   "execution_count": 6,
   "metadata": {},
   "outputs": [],
   "source": [
    "import random as rnd\n",
    "\n",
    "m = rnd.randint(2,5)\n",
    "n = rnd.randint(2,5)"
   ]
  },
  {
   "cell_type": "markdown",
   "metadata": {},
   "source": [
    "![](2022-06-24-14-15-57.png)"
   ]
  },
  {
   "cell_type": "code",
   "execution_count": 7,
   "metadata": {},
   "outputs": [],
   "source": [
    "def GetBeqM():\n",
    "    global b, m\n",
    "    while b != m:\n",
    "        b = rnd.randint(2,5)\n",
    "        m = rnd.randint(2,5)"
   ]
  },
  {
   "cell_type": "code",
   "execution_count": 8,
   "metadata": {},
   "outputs": [
    {
     "name": "stdout",
     "output_type": "stream",
     "text": [
      "2 5 5 2\n"
     ]
    }
   ],
   "source": [
    "GetBeqM()\n",
    "\n",
    "print(a, b, m, n)"
   ]
  },
  {
   "cell_type": "markdown",
   "metadata": {},
   "source": [
    "![](2022-06-24-14-15-41.png)"
   ]
  },
  {
   "cell_type": "code",
   "execution_count": 9,
   "metadata": {},
   "outputs": [
    {
     "name": "stdout",
     "output_type": "stream",
     "text": [
      "[[1, 2], [3, 4]]\n",
      "[[5, 6], [7, 8]]\n"
     ]
    }
   ],
   "source": [
    "a, b, m, n = 2, 2, 2, 2\n",
    "\n",
    "A = []\n",
    "for i in range(a):\n",
    "    red = []\n",
    "    for j in range(b):\n",
    "        unos = int(input(f\"Red {i+1}, stupac {j+1}: \"))\n",
    "        red.append(unos)\n",
    "    A.append(red)\n",
    "print(A)\n",
    "\n",
    "B = []\n",
    "for i in range(m):\n",
    "    red = []\n",
    "    for j in range(n):\n",
    "        unos = int(input(f\"Red {i+1}, stupac {j+1}: \"))\n",
    "        red.append(unos)\n",
    "    B.append(red)\n",
    "print(B)\n",
    "\n"
   ]
  },
  {
   "cell_type": "markdown",
   "metadata": {},
   "source": [
    "![](2022-06-27-08-02-15.png)"
   ]
  },
  {
   "cell_type": "code",
   "execution_count": 26,
   "metadata": {},
   "outputs": [],
   "source": [
    "def pomnoziMatrice(a,b,m, A, B):    \n",
    "    C = []\n",
    "    for i in range(a):\n",
    "        R = []\n",
    "        for j in range(b):\n",
    "            rez = 0\n",
    "            for k in range(m):\n",
    "                rez += A[i][k] * B[k][j]\n",
    "            R.append(rez)            \n",
    "        C.append(R)\n",
    "    print(C)\n",
    "                "
   ]
  },
  {
   "cell_type": "code",
   "execution_count": 28,
   "metadata": {},
   "outputs": [
    {
     "name": "stdout",
     "output_type": "stream",
     "text": [
      "[[19, 22], [43, 50]]\n"
     ]
    }
   ],
   "source": [
    "pomnoziMatrice(a,b,m,A,B)"
   ]
  },
  {
   "cell_type": "code",
   "execution_count": null,
   "metadata": {},
   "outputs": [],
   "source": []
  }
 ],
 "metadata": {
  "interpreter": {
   "hash": "c347c8f9a7ef94e4c9e03b4513be7835ed18f45b99a2a817fb579f408b867b16"
  },
  "kernelspec": {
   "display_name": "Python 3.9.7 64-bit",
   "language": "python",
   "name": "python3"
  },
  "language_info": {
   "codemirror_mode": {
    "name": "ipython",
    "version": 3
   },
   "file_extension": ".py",
   "mimetype": "text/x-python",
   "name": "python",
   "nbconvert_exporter": "python",
   "pygments_lexer": "ipython3",
   "version": "3.9.7"
  },
  "orig_nbformat": 4
 },
 "nbformat": 4,
 "nbformat_minor": 2
}
