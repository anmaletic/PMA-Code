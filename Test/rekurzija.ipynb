{
 "cells": [
  {
   "cell_type": "code",
   "execution_count": 6,
   "metadata": {},
   "outputs": [
    {
     "data": {
      "text/plain": [
       "15"
      ]
     },
     "execution_count": 6,
     "metadata": {},
     "output_type": "execute_result"
    }
   ],
   "source": [
    "def SumaNBrojeva(n:int):\n",
    "    if n == 1:\n",
    "        return n\n",
    "    else:\n",
    "        return n + SumaNBrojeva(n-1)\n",
    "\n",
    "SumaNBrojeva(5)"
   ]
  },
  {
   "cell_type": "code",
   "execution_count": 5,
   "metadata": {},
   "outputs": [
    {
     "name": "stdout",
     "output_type": "stream",
     "text": [
      "5\n",
      "14\n",
      "30\n",
      "55\n"
     ]
    },
    {
     "data": {
      "text/plain": [
       "55"
      ]
     },
     "execution_count": 5,
     "metadata": {},
     "output_type": "execute_result"
    }
   ],
   "source": [
    "def SumaN2Brojeva(n:int):\n",
    "    if n == 1:\n",
    "        return n**2\n",
    "    else:\n",
    "        suma = n**2 + SumaNBrojeva(n-1)\n",
    "        print(suma)\n",
    "        return suma\n",
    "\n",
    "SumaNBrojeva(5)"
   ]
  },
  {
   "cell_type": "code",
   "execution_count": 1,
   "metadata": {},
   "outputs": [
    {
     "name": "stdout",
     "output_type": "stream",
     "text": [
      "30\n",
      "30\n"
     ]
    }
   ],
   "source": [
    "def SumaNParnih(n:int):\n",
    "    if n == 1:\n",
    "        return 0\n",
    "    if n == 0:\n",
    "        return n\n",
    "    if n % 2 != 0:\n",
    "        return SumaNParnih(n-1)\n",
    "    else:\n",
    "        return n + SumaNParnih(n-1)\n",
    "\n",
    "print(SumaNParnih(11))\n",
    "\n",
    "def suma_n_parnih(n:int):\n",
    "    if n == 2:\n",
    "        return n\n",
    "    else:\n",
    "        return n + suma_n_parnih(n-2)\n",
    "\n",
    "print(suma_n_parnih(10))"
   ]
  },
  {
   "cell_type": "code",
   "execution_count": 32,
   "metadata": {},
   "outputs": [
    {
     "data": {
      "text/plain": [
       "120"
      ]
     },
     "execution_count": 32,
     "metadata": {},
     "output_type": "execute_result"
    }
   ],
   "source": [
    "def Factorial(n:int):\n",
    "    if n == 1:\n",
    "        return 1\n",
    "    else:\n",
    "        return n * Factorial(n-1)\n",
    "\n",
    "Factorial(5)"
   ]
  },
  {
   "cell_type": "code",
   "execution_count": 13,
   "metadata": {},
   "outputs": [
    {
     "data": {
      "text/plain": [
       "16"
      ]
     },
     "execution_count": 13,
     "metadata": {},
     "output_type": "execute_result"
    }
   ],
   "source": [
    "def potencija(broj, stupanj):\n",
    "    if stupanj == 1:\n",
    "        return broj\n",
    "    else:\n",
    "        return broj * potencija(broj, stupanj-1)\n",
    "\n",
    "potencija(2,4)"
   ]
  },
  {
   "cell_type": "code",
   "execution_count": 15,
   "metadata": {},
   "outputs": [
    {
     "data": {
      "text/plain": [
       "25"
      ]
     },
     "execution_count": 15,
     "metadata": {},
     "output_type": "execute_result"
    }
   ],
   "source": [
    "def SumaNParnihUIntervalu(a, b):\n",
    "    if b <= a:\n",
    "        return b\n",
    "    else:\n",
    "        return b + SumaNParnihUIntervalu(a, b-1)\n",
    "\n",
    "SumaNParnihUIntervalu(3, 7)"
   ]
  },
  {
   "cell_type": "code",
   "execution_count": 18,
   "metadata": {},
   "outputs": [
    {
     "data": {
      "text/plain": [
       "1.1416666666666666"
      ]
     },
     "execution_count": 18,
     "metadata": {},
     "output_type": "execute_result"
    }
   ],
   "source": [
    "def SumaNPolovina(n:int):\n",
    "    pol = 1/2\n",
    "    if n == 1:\n",
    "        return pol\n",
    "    else:\n",
    "        return pol*(1/n) + SumaNPolovina(n-1)\n",
    "\n",
    "SumaNPolovina(5)"
   ]
  },
  {
   "cell_type": "code",
   "execution_count": 34,
   "metadata": {},
   "outputs": [
    {
     "data": {
      "text/plain": [
       "153"
      ]
     },
     "execution_count": 34,
     "metadata": {},
     "output_type": "execute_result"
    }
   ],
   "source": [
    "# Napisati program, koristiti rekurziju, koji će za učitanu vrijednost n izračunati vrijednost izraza i ispisati:\n",
    "# s = 1! + 2! + 3! + ... + n!\n",
    "\n",
    "def SumaFactorial(n:int):\n",
    "    if n <= 1:\n",
    "        return n\n",
    "    else:        \n",
    "        return  Factorial(n) + SumaFactorial(n-1)\n",
    "\n",
    "SumaFactorial(5)\n",
    "    "
   ]
  },
  {
   "cell_type": "code",
   "execution_count": 47,
   "metadata": {},
   "outputs": [
    {
     "data": {
      "text/plain": [
       "True"
      ]
     },
     "execution_count": 47,
     "metadata": {},
     "output_type": "execute_result"
    }
   ],
   "source": [
    "# Riješiti rekurzijom da li je broj n prost ili složen.\n",
    "\n",
    "def IsProst(n:int, d = 2):\n",
    "    if n <= 3:\n",
    "        return True\n",
    "    else:\n",
    "        if d < n:\n",
    "            if n % d == 0:\n",
    "                return False\n",
    "            return IsProst(n, d+1)\n",
    "        else:\n",
    "            return True\n",
    "\n",
    "IsProst(23)"
   ]
  },
  {
   "cell_type": "code",
   "execution_count": 2,
   "metadata": {},
   "outputs": [
    {
     "data": {
      "text/plain": [
       "45"
      ]
     },
     "execution_count": 2,
     "metadata": {},
     "output_type": "execute_result"
    }
   ],
   "source": [
    "# Napisati rekurzivnu funkciju koja izračunava vrijednost binomnog koeficijenta : ( n povrh k)\n",
    "\n",
    "def Binomial(n:int, k:int):\n",
    "    if k == 1:\n",
    "        return 1\n",
    "    elif n == 0:\n",
    "        return 0\n",
    "    else:\n",
    "        return Binomial(n-1, k-1) + Binomial(n-1, k)\n",
    "\n",
    "Binomial(45, 2)\n"
   ]
  },
  {
   "cell_type": "code",
   "execution_count": 1,
   "metadata": {},
   "outputs": [
    {
     "data": {
      "text/plain": [
       "11"
      ]
     },
     "execution_count": 1,
     "metadata": {},
     "output_type": "execute_result"
    }
   ],
   "source": [
    "# Napisati rekurzivnu funkciju int proizvod_cifara(int n) koja računa proizvod cifara datog cijelog broja n.\n",
    "\n",
    "def SumaZnamenki(n:int):\n",
    "    if n == 0:\n",
    "        return 0\n",
    "    else:\n",
    "        return n%10 + SumaZnamenki(n//10)\n",
    "\n",
    "SumaZnamenki(29)"
   ]
  },
  {
   "cell_type": "code",
   "execution_count": 25,
   "metadata": {},
   "outputs": [
    {
     "data": {
      "text/plain": [
       "7"
      ]
     },
     "execution_count": 25,
     "metadata": {},
     "output_type": "execute_result"
    }
   ],
   "source": [
    "def BrojiZnamenke(n:int):\n",
    "    if n == 0:\n",
    "        return 0\n",
    "    else:              \n",
    "        return 1 + BrojiZnamenke(n//10)        \n",
    "\n",
    "BrojiZnamenke(1020000)"
   ]
  },
  {
   "cell_type": "code",
   "execution_count": 34,
   "metadata": {},
   "outputs": [
    {
     "data": {
      "text/plain": [
       "8"
      ]
     },
     "execution_count": 34,
     "metadata": {},
     "output_type": "execute_result"
    }
   ],
   "source": [
    "def BrojiParneZnamenke(n:int):\n",
    "    if n == 0:\n",
    "        return 0\n",
    "    else:      \n",
    "        if n % 2 == 0:\n",
    "            return 1 + BrojiParneZnamenke(n//10)        \n",
    "        else:\n",
    "            return BrojiParneZnamenke(n//10)\n",
    "\n",
    "BrojiParneZnamenke(2321434321222)"
   ]
  },
  {
   "cell_type": "code",
   "execution_count": 66,
   "metadata": {},
   "outputs": [
    {
     "data": {
      "text/plain": [
       "654321654321654321"
      ]
     },
     "execution_count": 66,
     "metadata": {},
     "output_type": "execute_result"
    }
   ],
   "source": [
    "# Napisati rekurzivnu funkciju koja obrće cifre datog cijelog broja n. Test primjer:\n",
    "# 1234567\n",
    "# 7654321\n",
    "\n",
    "def ReverseNum(n:int):\n",
    "    if n == 0:\n",
    "        return 0\n",
    "    else:\n",
    "        return (n % 10) * pow(10, (len(str(n)))-1) + ReverseNum(n//10)\n",
    "\n",
    "ReverseNum(123456123456123456)\n"
   ]
  },
  {
   "cell_type": "code",
   "execution_count": 72,
   "metadata": {},
   "outputs": [
    {
     "data": {
      "text/plain": [
       "321321321"
      ]
     },
     "execution_count": 72,
     "metadata": {},
     "output_type": "execute_result"
    }
   ],
   "source": [
    "def ReverseNumNoCast(n, p=0):\n",
    "    if n == 0:\n",
    "        return p\n",
    "    else:        \n",
    "        p = 10 * p + n%10\n",
    "        return ReverseNumNoCast(n//10, p)\n",
    "\n",
    "ReverseNumNoCast(123123123)"
   ]
  },
  {
   "cell_type": "code",
   "execution_count": null,
   "metadata": {},
   "outputs": [],
   "source": [
    "def RemoveNeparne(n:int):\n",
    "    if n == 0:\n",
    "        return\n",
    "        "
   ]
  }
 ],
 "metadata": {
  "interpreter": {
   "hash": "a25f99aa125bd4410be9155a2fb8511cd1ed013e1077370425d4be963778dfe3"
  },
  "kernelspec": {
   "display_name": "Python 3.9.12 ('base')",
   "language": "python",
   "name": "python3"
  },
  "language_info": {
   "codemirror_mode": {
    "name": "ipython",
    "version": 3
   },
   "file_extension": ".py",
   "mimetype": "text/x-python",
   "name": "python",
   "nbconvert_exporter": "python",
   "pygments_lexer": "ipython3",
   "version": "3.9.12"
  },
  "orig_nbformat": 4
 },
 "nbformat": 4,
 "nbformat_minor": 2
}
