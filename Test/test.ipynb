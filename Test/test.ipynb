{
 "cells": [
  {
   "cell_type": "code",
   "execution_count": 1,
   "metadata": {},
   "outputs": [],
   "source": [
    "def getBroj(n):\n",
    "    t = 0\n",
    "    i = 1000\n",
    "    for j in range(i):\n",
    "        for k in range(n):\n",
    "            for z in range(n):\n",
    "                t += 1\n",
    "    return t"
   ]
  },
  {
   "cell_type": "code",
   "execution_count": 2,
   "metadata": {},
   "outputs": [
    {
     "name": "stdout",
     "output_type": "stream",
     "text": [
      "100000\n"
     ]
    }
   ],
   "source": [
    "print(getBroj(10))"
   ]
  },
  {
   "cell_type": "code",
   "execution_count": null,
   "metadata": {},
   "outputs": [],
   "source": [
    "import random\n",
    "\n",
    "\n",
    "def izgenerirajMatricu(brojRedaka : int, brojStupaca : int):\n",
    "    random.seed()\n",
    "\n",
    "    matrica = []\n",
    "    for i in range(brojRedaka):\n",
    "        red = []\n",
    "        for j in range(brojStupaca):\n",
    "            red.append(random.randint(1,10))\n",
    "        matrica.append(red)\n",
    "\n",
    "    return matrica\n",
    "\n",
    "def printajMatricu(matrica : list):\n",
    "    for r in matrica:\n",
    "        print(r)\n",
    "    print()\n",
    "\n",
    "brojRedakaA = int(input(\"Broj redaka A matrice\"))\n",
    "brojStupacaA = int(input(\"Broj stupaca A matrice\"))\n",
    "\n",
    "brojRedakaB = int(input(\"Broj redaka B matrice\"))\n",
    "brojStupacaB = int(input(\"Broj stupaca B matrice\"))\n",
    "\n",
    "if brojStupacaA != brojRedakaB:\n",
    "    print(\"Matrice nije definirano između ove dvije matrice!\")\n",
    "    exit(0)\n",
    "\n",
    "matricaA = izgenerirajMatricu(brojRedakaA, brojStupacaA)\n",
    "matricaB = izgenerirajMatricu(brojRedakaB, brojStupacaB)\n",
    "\n",
    "result = []\n",
    "for i in range(brojRedakaA):\n",
    "    red = []\n",
    "    for j in range(brojStupacaB):\n",
    "        red.append(0)\n",
    "    result.append(red)\n",
    "\n",
    "for i in range(brojRedakaA):\n",
    "   for j in range(brojStupacaB):\n",
    "       rezultat = 0\n",
    "       for k in range(brojRedakaB):\n",
    "           #result[i][j] += matricaA[i][k] * matricaB[k][j]\n",
    "            rezultat += matricaA[i][k] * matricaB[k][j]\n",
    "       result[i][j] = rezultat\n",
    "\n",
    "printajMatricu(matricaA)\n",
    "printajMatricu(matricaB)\n",
    "printajMatricu(result)"
   ]
  },
  {
   "cell_type": "code",
   "execution_count": 11,
   "metadata": {},
   "outputs": [
    {
     "name": "stdout",
     "output_type": "stream",
     "text": [
      "424\n"
     ]
    }
   ],
   "source": [
    "import datetime as dt\n",
    "\n",
    "def IsMjesecOK(mj):\n",
    "    if mj >= 1 and mj <= 12:\n",
    "        return True\n",
    "\n",
    "\n",
    "def main():\n",
    "    # unos1mj = int(input(\"Unesite 1. mjesec : \"))\n",
    "    # unos1god = int(input(\"Unesite 1. godinu: \"))\n",
    "\n",
    "    # unos2mj = int(input(\"Unesite 2. mjesec : \"))\n",
    "    # unos2god = int(input(\"Unesite 2. godinu: \"))\n",
    "\n",
    "    unos1mj = 3\n",
    "    unos1god = 2023\n",
    "    unos2mj = 1\n",
    "    unos2god = 2022\n",
    "\n",
    "    if IsMjesecOK(unos1mj) and IsMjesecOK(unos2mj):        \n",
    "        dt1 = dt.date(unos1god,unos1mj,1)\n",
    "        dt2 = dt.date(unos2god,unos2mj,1)\n",
    "\n",
    "        if dt1.month > dt2.month:\n",
    "            rez = dt1 - dt2\n",
    "        else:\n",
    "            rez = dt2 - dt1\n",
    "\n",
    "\n",
    "        print(rez.days)\n"
   ]
  },
  {
   "cell_type": "code",
   "execution_count": 2,
   "metadata": {},
   "outputs": [
    {
     "name": "stdout",
     "output_type": "stream",
     "text": [
      "5\n",
      "4\n",
      "3\n",
      "2\n",
      "1\n",
      "0\n",
      "-1\n",
      "-2\n",
      "-3\n",
      "-4\n",
      "-5\n"
     ]
    }
   ],
   "source": [
    "def printam_unatrag(n, firstRun = True, _base = 0) -> int:    \n",
    "    if firstRun:\n",
    "        _base = -n\n",
    "    \n",
    "    if n == _base:\n",
    "        print(n)\n",
    "    else:\n",
    "        print(n) \n",
    "        printam_unatrag(n-1, False, _base)\n",
    "\n",
    "printam_unatrag(5)"
   ]
  },
  {
   "cell_type": "code",
   "execution_count": 1,
   "metadata": {},
   "outputs": [
    {
     "name": "stdout",
     "output_type": "stream",
     "text": [
      "1\n"
     ]
    }
   ],
   "source": [
    "br = 0\n",
    "def broj_prostih(n):\n",
    "    global br\n",
    "    if n == 0:\n",
    "        return\n",
    "    else:\n",
    "        for i in range(2,n//2+1):\n",
    "            b = 0\n",
    "            if n % i == 0:\n",
    "                b+= 1\n",
    "            if b == 0:\n",
    "                br += 1\n",
    "                return br\n",
    "        broj_prostih(n-1,br)\n",
    "        \n",
    "print(broj_prostih(500))"
   ]
  },
  {
   "cell_type": "code",
   "execution_count": 1,
   "metadata": {},
   "outputs": [
    {
     "name": "stdout",
     "output_type": "stream",
     "text": [
      "95\n"
     ]
    }
   ],
   "source": [
    "def broj_prostih(n):\n",
    "    global brojac_prostih\n",
    "    if n == 1:\n",
    "        return brojac_prostih\n",
    "    else:\n",
    "        brojac_djelitelja = 0\n",
    "        for i in range(2,n//2+1):\n",
    "            if n % i == 0:\n",
    "                brojac_djelitelja+= 1\n",
    "        if brojac_djelitelja == 0:\n",
    "            brojac_prostih += 1\n",
    "        return broj_prostih(n-1)\n",
    "brojac_prostih = 0\n",
    "print(broj_prostih(500))"
   ]
  },
  {
   "cell_type": "code",
   "execution_count": 5,
   "metadata": {},
   "outputs": [
    {
     "name": "stdout",
     "output_type": "stream",
     "text": [
      "*\n",
      "**\n",
      "***\n",
      "****\n",
      "*****\n",
      "******\n",
      "*******\n",
      "********\n",
      "*********\n",
      "**********\n"
     ]
    }
   ],
   "source": [
    "def crtam_zvjezdice(n, start = 1):\n",
    "    if start == broj:\n",
    "        print(start * '*')\n",
    "    else:\n",
    "        print(start*'*')\n",
    "        crtam_zvjezdice(n, start+1)\n",
    "\n",
    "broj = int(input('Unesite broj: '))\n",
    "crtam_zvjezdice(broj)"
   ]
  },
  {
   "cell_type": "code",
   "execution_count": null,
   "metadata": {},
   "outputs": [],
   "source": [
    "def crtam_zvjezdiceUnaprijed(n):\n",
    "    if "
   ]
  }
 ],
 "metadata": {
  "interpreter": {
   "hash": "4480e32245891b07b354378c7dbc380a1b3f17ee24171af64af582c25470e498"
  },
  "kernelspec": {
   "display_name": "Python 3.9.7 ('base')",
   "language": "python",
   "name": "python3"
  },
  "language_info": {
   "codemirror_mode": {
    "name": "ipython",
    "version": 3
   },
   "file_extension": ".py",
   "mimetype": "text/x-python",
   "name": "python",
   "nbconvert_exporter": "python",
   "pygments_lexer": "ipython3",
   "version": "3.9.7"
  },
  "orig_nbformat": 4
 },
 "nbformat": 4,
 "nbformat_minor": 2
}
